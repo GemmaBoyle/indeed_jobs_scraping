{
 "cells": [
  {
   "cell_type": "code",
   "execution_count": 1,
   "id": "0a77898d",
   "metadata": {},
   "outputs": [],
   "source": [
    "import requests\n",
    "import bs4\n",
    "from bs4 import BeautifulSoup\n",
    "import numpy as np\n",
    "import pandas as pd\n",
    "from tqdm import tqdm\n",
    "from random import randint\n",
    "from time import sleep"
   ]
  },
  {
   "cell_type": "code",
   "execution_count": 2,
   "id": "589f3b8d",
   "metadata": {},
   "outputs": [],
   "source": [
    "def find_salary2(result):\n",
    "    try:\n",
    "        return result.find(class_='salary-snippet').text\n",
    "    except:\n",
    "        return np.nan"
   ]
  },
  {
   "cell_type": "code",
   "execution_count": 3,
   "id": "1eb13679",
   "metadata": {},
   "outputs": [],
   "source": [
    "def find_job_title(result):\n",
    "    try: \n",
    "        return result.find(class_='jobTitle').text\n",
    "    except:\n",
    "        return np.nan"
   ]
  },
  {
   "cell_type": "code",
   "execution_count": 4,
   "id": "33b3b1dc",
   "metadata": {},
   "outputs": [],
   "source": [
    "def find_company_name(result):\n",
    "    try:\n",
    "        return result.find(class_='companyName').text\n",
    "    except: \n",
    "        return np.nan"
   ]
  },
  {
   "cell_type": "code",
   "execution_count": 5,
   "id": "a5c7387c",
   "metadata": {},
   "outputs": [],
   "source": [
    "def find_company_location(result):\n",
    "    try:\n",
    "        return result.find(class_='companyLocation').text\n",
    "    except: \n",
    "        return np.nan"
   ]
  },
  {
   "cell_type": "code",
   "execution_count": 6,
   "id": "cd5b060d",
   "metadata": {},
   "outputs": [],
   "source": [
    "def find_job_snippet(result):\n",
    "    try:\n",
    "        return result.find(class_='job-snippet').text.strip('\\n')\n",
    "    except:\n",
    "        return np.nan"
   ]
  },
  {
   "cell_type": "code",
   "execution_count": 7,
   "id": "dd444d50",
   "metadata": {},
   "outputs": [],
   "source": [
    "job_title = []\n",
    "company_name = []\n",
    "company_location = []\n",
    "salary = []\n",
    "snippet = []"
   ]
  },
  {
   "cell_type": "code",
   "execution_count": 8,
   "id": "e4093d35",
   "metadata": {},
   "outputs": [
    {
     "name": "stderr",
     "output_type": "stream",
     "text": [
      "100%|██████████| 341/341 [2:00:24<00:00, 21.18s/it]  \n"
     ]
    }
   ],
   "source": [
    "# Finding information: \n",
    "for start in tqdm(range(0, 3408, 10)):\n",
    "    url = \"https://uk.indeed.com/jobs?q=Data%20Science%20Remote&l=United%20Kingdom&start={}\".format(start)\n",
    "    r = requests.get(url)\n",
    "\n",
    "    sleep(randint(10,30))\n",
    "    \n",
    "    soup = BeautifulSoup(r.text, 'html.parser')\n",
    "    \n",
    "    for i in soup.find_all('div', class_='job_seen_beacon'):\n",
    "        job_title.append(find_job_title(i))\n",
    "        company_name.append(find_company_name(i))\n",
    "        company_location.append(find_company_location(i))\n",
    "        salary.append(find_salary2(i))\n",
    "        snippet.append(find_job_snippet(i))\n",
    "    "
   ]
  },
  {
   "cell_type": "code",
   "execution_count": 9,
   "id": "90d2c7a5",
   "metadata": {},
   "outputs": [],
   "source": [
    "UK_remote = pd.DataFrame(list(zip(job_title, company_name, company_location, salary, snippet)),\n",
    "               columns =['job_title', 'company_name', 'company_location', 'salary','job_snippet'])"
   ]
  },
  {
   "cell_type": "code",
   "execution_count": 11,
   "id": "8f0bbe7c",
   "metadata": {},
   "outputs": [
    {
     "data": {
      "text/plain": [
       "job_title           1106\n",
       "company_name        1105\n",
       "company_location    1106\n",
       "salary               373\n",
       "job_snippet         1106\n",
       "dtype: int64"
      ]
     },
     "execution_count": 11,
     "metadata": {},
     "output_type": "execute_result"
    }
   ],
   "source": [
    "UK_remote_no_dups = UK_remote.drop_duplicates(subset=None, keep='first', inplace=False, ignore_index=False)\n",
    "UK_remote_no_dups.count()"
   ]
  },
  {
   "cell_type": "code",
   "execution_count": 12,
   "id": "e1d7e291",
   "metadata": {},
   "outputs": [],
   "source": [
    "UK_remote_no_dups.to_csv('UK_remote.csv')"
   ]
  },
  {
   "cell_type": "code",
   "execution_count": null,
   "id": "7bd0db6d",
   "metadata": {},
   "outputs": [],
   "source": []
  }
 ],
 "metadata": {
  "kernelspec": {
   "display_name": "Python 3",
   "language": "python",
   "name": "python3"
  },
  "language_info": {
   "codemirror_mode": {
    "name": "ipython",
    "version": 3
   },
   "file_extension": ".py",
   "mimetype": "text/x-python",
   "name": "python",
   "nbconvert_exporter": "python",
   "pygments_lexer": "ipython3",
   "version": "3.8.8"
  }
 },
 "nbformat": 4,
 "nbformat_minor": 5
}
