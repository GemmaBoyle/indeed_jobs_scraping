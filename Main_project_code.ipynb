{
 "cells": [
  {
   "cell_type": "markdown",
   "metadata": {
    "focus": false,
    "id": "69b9a648-bcc7-490d-9f9b-ea244d156bd6"
   },
   "source": [
    "<img src=\"http://imgur.com/1ZcRyrc.png\" style=\"float: left; margin: 15px; height: 80px\">\n",
    "\n",
    "\n",
    "# Web Scraping for Indeed.com and Predicting Salaries"
   ]
  },
  {
   "cell_type": "markdown",
   "metadata": {},
   "source": [
    "### Business Case Overview\n",
    "\n",
    "You're working as a data scientist for a contracting firm that's rapidly expanding. Now that they have their most valuable employee (you!), they need to leverage data to win more contracts. Your firm offers technology and scientific solutions and wants to be competitive in the hiring market. Your principal wants you to\n",
    "\n",
    "   - determine the industry factors that are most important in predicting the salary amounts for these data.\n",
    "\n",
    "To limit the scope, your principal has suggested that you *focus on data-related job postings*, e.g. data scientist, data analyst, research scientist, business intelligence, and any others you might think of. You may also want to decrease the scope by *limiting your search to a single region.*\n",
    "\n",
    "Hint: Aggregators like [Indeed.com](https://www.indeed.com) regularly pool job postings from a variety of markets and industries.\n",
    "\n",
    "**Goal:** Scrape your own data from a job aggregation tool like Indeed.com in order to collect the data to best answer this question.\n",
    "\n",
    "---\n",
    "\n",
    "### Directions\n",
    "\n",
    "In this project you will be leveraging a variety of skills. The first will be to use the web-scraping and/or API techniques you've learned to collect data on data jobs from Indeed.com or another aggregator. Once you have collected and cleaned the data, you will use it to address the question above."
   ]
  },
  {
   "cell_type": "markdown",
   "metadata": {},
   "source": [
    "### Factors that impact salary\n",
    "\n",
    "To predict salary the most appropriate approach would be a regression model.\n",
    "Here instead we just want to estimate which factors (like location, job title, job level, industry sector) lead to high or low salary and work with a classification model. To do so, split the salary into two groups of high and low salary, for example by choosing the median salary as a threshold (in principle you could choose any single or multiple splitting points).\n",
    "\n",
    "Use all the skills you have learned so far to build a predictive model.\n",
    "Whatever you decide to use, the most important thing is to justify your choices and interpret your results. *Communication of your process is key.* Note that most listings **DO NOT** come with salary information. You'll need to be able to extrapolate or predict the expected salaries for these listings."
   ]
  },
  {
   "cell_type": "markdown",
   "metadata": {
    "focus": false,
    "id": "a948d79c-5527-4c0d-ab23-f5d43ce72056"
   },
   "source": [
    "### Scraping job listings from Indeed.com"
   ]
  },
  {
   "cell_type": "markdown",
   "metadata": {
    "focus": true,
    "id": "7203e0c9-e437-4802-a6ad-7dc464f94436"
   },
   "source": [
    "We will be scraping job listings from Indeed.com using BeautifulSoup. Luckily, Indeed.com is a simple text page where we can easily find relevant entries.\n",
    "\n",
    "First, look at the source of an Indeed.com page: (http://www.indeed.com/jobs?q=data+scientist+%2420%2C000&l=New+York&start=10\").\n",
    "\n",
    "Notice, each job listing is underneath a `div` tag with a class name of `result`. We can use BeautifulSoup to extract those. "
   ]
  },
  {
   "cell_type": "markdown",
   "metadata": {
    "focus": false,
    "id": "9732c901-ae26-4160-8376-42e22dd327df"
   },
   "source": [
    "#### Setup a request (using `requests`) to the URL below. Use BeautifulSoup to parse the page and extract all results (HINT: Look for div tags with class name result)\n",
    "\n",
    "The URL here has many query parameters:\n",
    "\n",
    "- `q` for the job search\n",
    "- This is followed by \"+20,000\" to return results with salaries (or expected salaries >$20,000)\n",
    "- `l` for a location \n",
    "- `start` for what result number to start on"
   ]
  },
  {
   "cell_type": "markdown",
   "metadata": {},
   "source": [
    "## Notes\n",
    "Many apologies Bertie, there is some scraping code within this notebook and some within other notebooks, as this one was getting to large to handle. Within the other notebooks you can find the collection, cleaning and exporting of jobs in particular countries. The final data set, made up of the scrapes from all countries transformed to GBP are in this notebook along with all the modelling and analysis."
   ]
  },
  {
   "cell_type": "code",
   "execution_count": 240,
   "metadata": {
    "focus": false,
    "id": "2efefc73-064a-482d-b3b5-ddf5508cb4ec"
   },
   "outputs": [],
   "source": [
    "import requests\n",
    "import bs4\n",
    "from bs4 import BeautifulSoup\n",
    "import numpy as np\n",
    "import pandas as pd\n",
    "from tqdm import tqdm\n"
   ]
  },
  {
   "cell_type": "code",
   "execution_count": 241,
   "metadata": {
    "focus": false,
    "id": "e915023e-6b0d-4982-af2a-b1e0355f4927"
   },
   "outputs": [],
   "source": [
    "URL = \"http://www.indeed.com/jobs?q=data+scientist+%2420%2C000&l=New+York&start=0\""
   ]
  },
  {
   "cell_type": "code",
   "execution_count": 242,
   "metadata": {
    "focus": false,
    "id": "2c6752c4-7704-4c94-8bc0-6f13d2d0d570"
   },
   "outputs": [],
   "source": [
    "r = requests.get(URL)"
   ]
  },
  {
   "cell_type": "code",
   "execution_count": 243,
   "metadata": {},
   "outputs": [],
   "source": [
    "# print(r.text)"
   ]
  },
  {
   "cell_type": "code",
   "execution_count": 244,
   "metadata": {},
   "outputs": [],
   "source": [
    "# r.content"
   ]
  },
  {
   "cell_type": "markdown",
   "metadata": {
    "focus": false,
    "id": "bb0b866a-26a7-45e9-8084-5a0f90eb4b3e"
   },
   "source": [
    "Let's look at one result more closely. A single `result` looks like\n",
    "\n",
    "```\n",
    "<div class=\" row result\" data-jk=\"2480d203f7e97210\" data-tn-component=\"organicJob\" id=\"p_2480d203f7e97210\" itemscope=\"\" itemtype=\"http://schema.org/JobPosting\">\n",
    "<h2 class=\"jobtitle\" id=\"jl_2480d203f7e97210\">\n",
    "<a class=\"turnstileLink\" data-tn-element=\"jobTitle\" onmousedown=\"return rclk(this,jobmap[0],1);\" rel=\"nofollow\" target=\"_blank\" title=\"AVP/Quantitative Analyst\">AVP/Quantitative Analyst</a>\n",
    "</h2>\n",
    "<span class=\"company\" itemprop=\"hiringOrganization\" itemtype=\"http://schema.org/Organization\">\n",
    "<span itemprop=\"name\">\n",
    "<a href=\"/cmp/Alliancebernstein?from=SERP&amp;campaignid=serp-linkcompanyname&amp;fromjk=2480d203f7e97210&amp;jcid=b374f2a780e04789\" target=\"_blank\">\n",
    "    AllianceBernstein</a></span>\n",
    "</span>\n",
    "<tr>\n",
    "<td class=\"snip\">\n",
    "<nobr>$117,500 - $127,500 a year</nobr>\n",
    "<div>\n",
    "<span class=\"summary\" itemprop=\"description\">\n",
    "C onduct quantitative and statistical research as well as portfolio management for various investment portfolios. Collaborate with Quantitative Analysts and</span>\n",
    "</div>\n",
    "</div>\n",
    "</td>\n",
    "</tr>\n",
    "</table>\n",
    "</div>\n",
    "```\n",
    "\n",
    "While this has some more verbose elements removed, we can see that there is some structure to the above:\n",
    "- The salary is in a `span` with `class='salaryText'`.\n",
    "- The title of a job is in a link with class set to `jobtitle` and a `data-tn-element='jobTitle'`.  \n",
    "- The location is set in a `span` with `class='location'`. \n",
    "- The company is set in a `span` with `class='company'`. \n",
    "- Decide which other components could be relevant, for example the region or the summary of the job advert."
   ]
  },
  {
   "cell_type": "markdown",
   "metadata": {
    "focus": false,
    "id": "f1eddb90-4ba8-483c-a229-77e93aa53119"
   },
   "source": [
    "### Write 4 functions to extract each item: location, company, job, and salary.\n",
    "\n",
    "Example: \n",
    "```python\n",
    "def extract_location_from_result(result):\n",
    "    return result.find ...\n",
    "```\n",
    "\n",
    "\n",
    "- **Make sure these functions are robust and can handle cases where the data/field may not be available.**\n",
    "    - Remember to check if a field is empty or `None` for attempting to call methods on it.\n",
    "    - Remember to use `try/except` if you anticipate errors.\n",
    "- **Test** the functions on the results above and simple examples."
   ]
  },
  {
   "cell_type": "code",
   "execution_count": 341,
   "metadata": {},
   "outputs": [],
   "source": [
    "# soup = BeautifulSoup(r.text, 'html.parser')\n",
    "# soup.prettify()"
   ]
  },
  {
   "cell_type": "code",
   "execution_count": 342,
   "metadata": {},
   "outputs": [],
   "source": [
    "# print(soup.get_text()[1000:2000])"
   ]
  },
  {
   "cell_type": "code",
   "execution_count": 248,
   "metadata": {},
   "outputs": [],
   "source": [
    "# First div tag \n",
    "# soup.find_all('div')"
   ]
  },
  {
   "cell_type": "code",
   "execution_count": 249,
   "metadata": {},
   "outputs": [],
   "source": [
    "# soup.find_all('span')"
   ]
  },
  {
   "cell_type": "code",
   "execution_count": 253,
   "metadata": {},
   "outputs": [],
   "source": [
    "result = soup.find_all('div', class_='job_seen_beacon')[4] # Just to check the information is being removed correctly"
   ]
  },
  {
   "cell_type": "code",
   "execution_count": 343,
   "metadata": {},
   "outputs": [],
   "source": [
    "def find_salary(result):\n",
    "    \n",
    "    # Function to find the salary of a job from the indeed website US\n",
    "    \n",
    "    try:\n",
    "        return result.find(class_='attribute_snippet').text\n",
    "    except:\n",
    "        return np.nan"
   ]
  },
  {
   "cell_type": "code",
   "execution_count": 255,
   "metadata": {},
   "outputs": [
    {
     "data": {
      "text/plain": [
       "'$75,504 - $90,000 a year'"
      ]
     },
     "execution_count": 255,
     "metadata": {},
     "output_type": "execute_result"
    }
   ],
   "source": [
    "find_salary(result)"
   ]
  },
  {
   "cell_type": "code",
   "execution_count": 344,
   "metadata": {},
   "outputs": [],
   "source": [
    "def find_job_title(result):\n",
    "    \n",
    "    # Function to find the job title of a job from the indeed website\n",
    "    \n",
    "    try: \n",
    "        return result.find(class_='jobTitle').text\n",
    "    except:\n",
    "        return np.nan"
   ]
  },
  {
   "cell_type": "code",
   "execution_count": null,
   "metadata": {},
   "outputs": [],
   "source": [
    "find_job_title(result)"
   ]
  },
  {
   "cell_type": "code",
   "execution_count": 345,
   "metadata": {},
   "outputs": [],
   "source": [
    "def find_company_name(result):\n",
    "    \n",
    "    # Function to find the company name of a job from the indeed website \n",
    "    \n",
    "    try:\n",
    "        return result.find(class_='companyName').text\n",
    "    except: \n",
    "        return np.nan"
   ]
  },
  {
   "cell_type": "code",
   "execution_count": 259,
   "metadata": {},
   "outputs": [
    {
     "data": {
      "text/plain": [
       "'NYC Careers'"
      ]
     },
     "execution_count": 259,
     "metadata": {},
     "output_type": "execute_result"
    }
   ],
   "source": [
    "find_company_name(result)"
   ]
  },
  {
   "cell_type": "code",
   "execution_count": 346,
   "metadata": {},
   "outputs": [],
   "source": [
    "def find_company_location(result):\n",
    "    \n",
    "    # Function to find the location of a job from the indeed website \n",
    "    \n",
    "    try:\n",
    "        return result.find(class_='companyLocation').text\n",
    "    except: \n",
    "        return np.nan"
   ]
  },
  {
   "cell_type": "code",
   "execution_count": 261,
   "metadata": {},
   "outputs": [
    {
     "data": {
      "text/plain": [
       "'Manhattan, NY+6 locations'"
      ]
     },
     "execution_count": 261,
     "metadata": {},
     "output_type": "execute_result"
    }
   ],
   "source": [
    "find_company_location(result)"
   ]
  },
  {
   "cell_type": "code",
   "execution_count": 347,
   "metadata": {},
   "outputs": [],
   "source": [
    "def find_job_snippet(result):\n",
    "    \n",
    "    # Function to find the job snippet of a job from the indeed website \n",
    "    \n",
    "    try:\n",
    "        return result.find(class_='job-snippet').text.strip('\\n')\n",
    "    except:\n",
    "        return np.nan"
   ]
  },
  {
   "cell_type": "code",
   "execution_count": 263,
   "metadata": {},
   "outputs": [
    {
     "data": {
      "text/plain": [
       "'Which include but are not limited to a mastery in conducting data landscape analyses, identifying and documenting data sources, joining and integrating datasets…'"
      ]
     },
     "execution_count": 263,
     "metadata": {},
     "output_type": "execute_result"
    }
   ],
   "source": [
    "find_job_snippet(result)"
   ]
  },
  {
   "cell_type": "code",
   "execution_count": 265,
   "metadata": {},
   "outputs": [
    {
     "data": {
      "text/html": [
       "<div>\n",
       "<style scoped>\n",
       "    .dataframe tbody tr th:only-of-type {\n",
       "        vertical-align: middle;\n",
       "    }\n",
       "\n",
       "    .dataframe tbody tr th {\n",
       "        vertical-align: top;\n",
       "    }\n",
       "\n",
       "    .dataframe thead th {\n",
       "        text-align: right;\n",
       "    }\n",
       "</style>\n",
       "<table border=\"1\" class=\"dataframe\">\n",
       "  <thead>\n",
       "    <tr style=\"text-align: right;\">\n",
       "      <th></th>\n",
       "      <th>job_title</th>\n",
       "      <th>company_name</th>\n",
       "      <th>company_location</th>\n",
       "      <th>salary</th>\n",
       "      <th>job_snippet</th>\n",
       "    </tr>\n",
       "  </thead>\n",
       "  <tbody>\n",
       "    <tr>\n",
       "      <th>0</th>\n",
       "      <td>Readership Data Scientist</td>\n",
       "      <td>Barclays</td>\n",
       "      <td>New York, NY 10019 (Midtown area)+1 location</td>\n",
       "      <td>NaN</td>\n",
       "      <td>An understanding of data pipelining and automa...</td>\n",
       "    </tr>\n",
       "    <tr>\n",
       "      <th>1</th>\n",
       "      <td>Data Scientist</td>\n",
       "      <td>RELX</td>\n",
       "      <td>New York, NY+1 location</td>\n",
       "      <td>NaN</td>\n",
       "      <td>to be added We are an equal opportunity employ...</td>\n",
       "    </tr>\n",
       "    <tr>\n",
       "      <th>2</th>\n",
       "      <td>newData Scientist</td>\n",
       "      <td>Farfetch</td>\n",
       "      <td>New York, NY</td>\n",
       "      <td>NaN</td>\n",
       "      <td>Whether it's churning gigabytes of ecommerce d...</td>\n",
       "    </tr>\n",
       "    <tr>\n",
       "      <th>3</th>\n",
       "      <td>Data Scientist</td>\n",
       "      <td>AlphaSights Ltd.</td>\n",
       "      <td>New York, NY+1 location</td>\n",
       "      <td>NaN</td>\n",
       "      <td>Help maintain data pipelines and evolve data E...</td>\n",
       "    </tr>\n",
       "    <tr>\n",
       "      <th>4</th>\n",
       "      <td>Data Scientist</td>\n",
       "      <td>NYC Careers</td>\n",
       "      <td>Manhattan, NY+6 locations</td>\n",
       "      <td>$75,504 - $90,000 a year</td>\n",
       "      <td>Which include but are not limited to a mastery...</td>\n",
       "    </tr>\n",
       "    <tr>\n",
       "      <th>5</th>\n",
       "      <td>newData Scientist</td>\n",
       "      <td>Lokavant, Inc.</td>\n",
       "      <td>New York State+1 location•Remote</td>\n",
       "      <td>NaN</td>\n",
       "      <td>Experience with healthcare data, ideally clini...</td>\n",
       "    </tr>\n",
       "    <tr>\n",
       "      <th>6</th>\n",
       "      <td>Data Scientist, Personalization</td>\n",
       "      <td>Spotify</td>\n",
       "      <td>New York, NY+7 locations•Remote</td>\n",
       "      <td>NaN</td>\n",
       "      <td>Mentor and coach other data scientists.\\nThis ...</td>\n",
       "    </tr>\n",
       "    <tr>\n",
       "      <th>7</th>\n",
       "      <td>Data Scientist</td>\n",
       "      <td>MetLife</td>\n",
       "      <td>New York, NY</td>\n",
       "      <td>NaN</td>\n",
       "      <td>In an ongoing effort to grow and enrich MetLif...</td>\n",
       "    </tr>\n",
       "    <tr>\n",
       "      <th>8</th>\n",
       "      <td>newData Scientist</td>\n",
       "      <td>Osmose Utilities Services</td>\n",
       "      <td>Depew, NY 14043</td>\n",
       "      <td>NaN</td>\n",
       "      <td>Develop custom data models and algorithms to a...</td>\n",
       "    </tr>\n",
       "    <tr>\n",
       "      <th>9</th>\n",
       "      <td>Data Scientist - Nielsen 2022 Full-time Univer...</td>\n",
       "      <td>Nielsen</td>\n",
       "      <td>New York, NY+2 locations</td>\n",
       "      <td>NaN</td>\n",
       "      <td>Assist in the design and implementation strate...</td>\n",
       "    </tr>\n",
       "    <tr>\n",
       "      <th>10</th>\n",
       "      <td>newData Scientist-Spanish Language</td>\n",
       "      <td>Kasisto</td>\n",
       "      <td>New York, NY 10010 (Flatiron District area)+3 ...</td>\n",
       "      <td>NaN</td>\n",
       "      <td>We are looking to hire a data scientist with n...</td>\n",
       "    </tr>\n",
       "    <tr>\n",
       "      <th>11</th>\n",
       "      <td>Data Scientist - Full-Time Campus Hire</td>\n",
       "      <td>Two Sigma Investments, LLC.</td>\n",
       "      <td>New York, NY+6 locations</td>\n",
       "      <td>NaN</td>\n",
       "      <td>Get into the weeds of large-scale real-world o...</td>\n",
       "    </tr>\n",
       "    <tr>\n",
       "      <th>12</th>\n",
       "      <td>newSenior Data Scientist</td>\n",
       "      <td>Farfetch</td>\n",
       "      <td>New York, NY</td>\n",
       "      <td>NaN</td>\n",
       "      <td>Whether it's churning gigabytes of ecommerce d...</td>\n",
       "    </tr>\n",
       "    <tr>\n",
       "      <th>13</th>\n",
       "      <td>Data Scientist, Revenue</td>\n",
       "      <td>Notion</td>\n",
       "      <td>New York, NY+1 location</td>\n",
       "      <td>NaN</td>\n",
       "      <td>You've spent meaningful time as a data scienti...</td>\n",
       "    </tr>\n",
       "    <tr>\n",
       "      <th>14</th>\n",
       "      <td>Senior Data Scientist, Forecasting</td>\n",
       "      <td>Duolingo</td>\n",
       "      <td>New York, NY+1 location</td>\n",
       "      <td>NaN</td>\n",
       "      <td>Ensure the integrity of our tracking and data....</td>\n",
       "    </tr>\n",
       "  </tbody>\n",
       "</table>\n",
       "</div>"
      ],
      "text/plain": [
       "                                            job_title  \\\n",
       "0                           Readership Data Scientist   \n",
       "1                                      Data Scientist   \n",
       "2                                   newData Scientist   \n",
       "3                                      Data Scientist   \n",
       "4                                      Data Scientist   \n",
       "5                                   newData Scientist   \n",
       "6                     Data Scientist, Personalization   \n",
       "7                                      Data Scientist   \n",
       "8                                   newData Scientist   \n",
       "9   Data Scientist - Nielsen 2022 Full-time Univer...   \n",
       "10                 newData Scientist-Spanish Language   \n",
       "11             Data Scientist - Full-Time Campus Hire   \n",
       "12                           newSenior Data Scientist   \n",
       "13                            Data Scientist, Revenue   \n",
       "14                 Senior Data Scientist, Forecasting   \n",
       "\n",
       "                   company_name  \\\n",
       "0                      Barclays   \n",
       "1                          RELX   \n",
       "2                      Farfetch   \n",
       "3              AlphaSights Ltd.   \n",
       "4                   NYC Careers   \n",
       "5                Lokavant, Inc.   \n",
       "6                       Spotify   \n",
       "7                       MetLife   \n",
       "8     Osmose Utilities Services   \n",
       "9                       Nielsen   \n",
       "10                      Kasisto   \n",
       "11  Two Sigma Investments, LLC.   \n",
       "12                     Farfetch   \n",
       "13                       Notion   \n",
       "14                     Duolingo   \n",
       "\n",
       "                                     company_location  \\\n",
       "0        New York, NY 10019 (Midtown area)+1 location   \n",
       "1                             New York, NY+1 location   \n",
       "2                                        New York, NY   \n",
       "3                             New York, NY+1 location   \n",
       "4                           Manhattan, NY+6 locations   \n",
       "5                    New York State+1 location•Remote   \n",
       "6                     New York, NY+7 locations•Remote   \n",
       "7                                        New York, NY   \n",
       "8                                     Depew, NY 14043   \n",
       "9                            New York, NY+2 locations   \n",
       "10  New York, NY 10010 (Flatiron District area)+3 ...   \n",
       "11                           New York, NY+6 locations   \n",
       "12                                       New York, NY   \n",
       "13                            New York, NY+1 location   \n",
       "14                            New York, NY+1 location   \n",
       "\n",
       "                      salary  \\\n",
       "0                        NaN   \n",
       "1                        NaN   \n",
       "2                        NaN   \n",
       "3                        NaN   \n",
       "4   $75,504 - $90,000 a year   \n",
       "5                        NaN   \n",
       "6                        NaN   \n",
       "7                        NaN   \n",
       "8                        NaN   \n",
       "9                        NaN   \n",
       "10                       NaN   \n",
       "11                       NaN   \n",
       "12                       NaN   \n",
       "13                       NaN   \n",
       "14                       NaN   \n",
       "\n",
       "                                          job_snippet  \n",
       "0   An understanding of data pipelining and automa...  \n",
       "1   to be added We are an equal opportunity employ...  \n",
       "2   Whether it's churning gigabytes of ecommerce d...  \n",
       "3   Help maintain data pipelines and evolve data E...  \n",
       "4   Which include but are not limited to a mastery...  \n",
       "5   Experience with healthcare data, ideally clini...  \n",
       "6   Mentor and coach other data scientists.\\nThis ...  \n",
       "7   In an ongoing effort to grow and enrich MetLif...  \n",
       "8   Develop custom data models and algorithms to a...  \n",
       "9   Assist in the design and implementation strate...  \n",
       "10  We are looking to hire a data scientist with n...  \n",
       "11  Get into the weeds of large-scale real-world o...  \n",
       "12  Whether it's churning gigabytes of ecommerce d...  \n",
       "13  You've spent meaningful time as a data scienti...  \n",
       "14  Ensure the integrity of our tracking and data....  "
      ]
     },
     "execution_count": 265,
     "metadata": {},
     "output_type": "execute_result"
    }
   ],
   "source": [
    "# Finding information, 1 page test: \n",
    "job_title = []\n",
    "company_name = []\n",
    "company_location = []\n",
    "salary = []\n",
    "snippet = []\n",
    "\n",
    "for i in soup.find_all('div', class_='job_seen_beacon'):\n",
    "    job_title.append(find_job_title(i))\n",
    "    company_name.append(find_company_name(i))\n",
    "    company_location.append(find_company_location(i))\n",
    "    salary.append(find_salary(i))\n",
    "    snippet.append(find_job_snippet(i))\n",
    "    \n",
    "    \n",
    "jobs = pd.DataFrame(list(zip(job_title, company_name, company_location, salary, snippet)),\n",
    "               columns =['job_title', 'company_name', 'company_location', 'salary','job_snippet'])\n",
    "\n",
    "jobs\n",
    "\n",
    "# Hooray"
   ]
  },
  {
   "cell_type": "markdown",
   "metadata": {
    "focus": false,
    "id": "34070e89-9521-4b45-90c8-57a6599aac68"
   },
   "source": [
    "Now, to scale up our scraping, we need to accumulate more results. We can do this by examining the URL above.\n",
    "\n",
    "- \"http://www.indeed.com/jobs?q=data+scientist+%2420%2C000&l=New+York&start=10\"\n",
    "\n",
    "There are two query parameters here we can alter to collect more results, the `l=New+York` and the `start=10`. The first controls the location of the results (so we can try a different city). The second controls where in the results to start and gives 10 results (thus, we can keep incrementing by 10 to go further in the list)."
   ]
  },
  {
   "cell_type": "markdown",
   "metadata": {
    "focus": false,
    "id": "e8beed7c-3e42-40c0-810f-5f67f8f885a0"
   },
   "source": [
    "### Complete the following code to collect results from multiple cities and starting points. \n",
    "- Enter your city below to add it to the search.\n",
    "- Remember to convert your salary to U.S. Dollars to match the other cities if the currency is different."
   ]
  },
  {
   "cell_type": "code",
   "execution_count": 348,
   "metadata": {},
   "outputs": [],
   "source": [
    "from random import randint\n",
    "from time import sleep"
   ]
  },
  {
   "cell_type": "code",
   "execution_count": 333,
   "metadata": {},
   "outputs": [],
   "source": [
    "# This page is needed as the tagging for salary in the US and UK are slightly different\n",
    "\n",
    "def find_salary2(result):\n",
    "    \n",
    "    # Function to find the salary of a job on the indeed website (non-US)\n",
    "    \n",
    "    try:\n",
    "        return result.find(class_='salary-snippet').text\n",
    "    except:\n",
    "        return np.nan"
   ]
  },
  {
   "cell_type": "code",
   "execution_count": 335,
   "metadata": {},
   "outputs": [],
   "source": [
    "# Holders for features in AU jobs\n",
    "\n",
    "job_title_au = []\n",
    "company_name_au = []\n",
    "company_location_au = []\n",
    "salary_au = []\n",
    "snippet_au = []"
   ]
  },
  {
   "cell_type": "markdown",
   "metadata": {},
   "source": [
    "### Notes\n",
    "The scraping code for AU jobs is below (US further down the page). As well as a reasonably long timer I manually swapped the location on my vpn periodically to change the incoming IP address and bypass the captcha. This is how I eventually managed all the scrapes. "
   ]
  },
  {
   "cell_type": "code",
   "execution_count": 337,
   "metadata": {},
   "outputs": [
    {
     "name": "stderr",
     "output_type": "stream",
     "text": [
      "100%|██████████| 38/38 [12:34<00:00, 19.86s/it]\n"
     ]
    }
   ],
   "source": [
    "# Scrape for Australian jobs\n",
    "\n",
    "for start in tqdm(range(0, 371, 10)):\n",
    "        url = \"https://au.indeed.com/jobs?q=Data+Scientist&start={}\".format(start)\n",
    "        r = requests.get(url)\n",
    "\n",
    "        sleep(randint(10,20))\n",
    "        soup = BeautifulSoup(r.text, 'html.parser')\n",
    "        for i in soup.find_all('div', class_='job_seen_beacon'):\n",
    "            job_title_au.append(find_job_title(i))\n",
    "            company_name_au.append(find_company_name(i))\n",
    "            company_location_au.append(find_company_location(i))\n",
    "            salary_au.append(find_salary2(i))\n",
    "            snippet_au.append(find_job_snippet(i))"
   ]
  },
  {
   "cell_type": "code",
   "execution_count": 338,
   "metadata": {},
   "outputs": [
    {
     "data": {
      "text/html": [
       "<div>\n",
       "<style scoped>\n",
       "    .dataframe tbody tr th:only-of-type {\n",
       "        vertical-align: middle;\n",
       "    }\n",
       "\n",
       "    .dataframe tbody tr th {\n",
       "        vertical-align: top;\n",
       "    }\n",
       "\n",
       "    .dataframe thead th {\n",
       "        text-align: right;\n",
       "    }\n",
       "</style>\n",
       "<table border=\"1\" class=\"dataframe\">\n",
       "  <thead>\n",
       "    <tr style=\"text-align: right;\">\n",
       "      <th></th>\n",
       "      <th>job_title</th>\n",
       "      <th>company_name</th>\n",
       "      <th>company_location</th>\n",
       "      <th>salary</th>\n",
       "      <th>job_snippet</th>\n",
       "    </tr>\n",
       "  </thead>\n",
       "  <tbody>\n",
       "    <tr>\n",
       "      <th>580</th>\n",
       "      <td>DevOps ML Engineer</td>\n",
       "      <td>CSKnexus</td>\n",
       "      <td>Sydney NSW</td>\n",
       "      <td>NaN</td>\n",
       "      <td>Expert with Cloud software and tools on data p...</td>\n",
       "    </tr>\n",
       "    <tr>\n",
       "      <th>581</th>\n",
       "      <td>Analytics Consultant - Fraud - APAC</td>\n",
       "      <td>Eagna Consulting</td>\n",
       "      <td>Sydney NSW</td>\n",
       "      <td>$230,000 a year</td>\n",
       "      <td>Build analytical data models and present resul...</td>\n",
       "    </tr>\n",
       "    <tr>\n",
       "      <th>582</th>\n",
       "      <td>Analytics Consulting Partner, Sydney CBD</td>\n",
       "      <td>inDmand</td>\n",
       "      <td>Sydney NSW</td>\n",
       "      <td>$200,000 - $250,000 a year</td>\n",
       "      <td>High profile role - Influence how this practic...</td>\n",
       "    </tr>\n",
       "    <tr>\n",
       "      <th>583</th>\n",
       "      <td>Senior Machine Learning Engineer - Marketing T...</td>\n",
       "      <td>Talent Insights Group</td>\n",
       "      <td>Sydney NSW</td>\n",
       "      <td>$160,000 - $180,000 a year</td>\n",
       "      <td>You will also help deploy and productionise ma...</td>\n",
       "    </tr>\n",
       "    <tr>\n",
       "      <th>584</th>\n",
       "      <td>Machine Learning Engineer with Data Engineer/D...</td>\n",
       "      <td>Correlate Resources</td>\n",
       "      <td>Sydney NSW</td>\n",
       "      <td>NaN</td>\n",
       "      <td>Solid knowledge of data structures, algorithms...</td>\n",
       "    </tr>\n",
       "    <tr>\n",
       "      <th>585</th>\n",
       "      <td>Lead Analytics Engineer</td>\n",
       "      <td>Talenza</td>\n",
       "      <td>Sydney NSW</td>\n",
       "      <td>NaN</td>\n",
       "      <td>You will be a key person working alongside mul...</td>\n",
       "    </tr>\n",
       "    <tr>\n",
       "      <th>586</th>\n",
       "      <td>Manager Analytics &amp; Insights</td>\n",
       "      <td>Mable</td>\n",
       "      <td>Sydney NSW</td>\n",
       "      <td>NaN</td>\n",
       "      <td>5+ years of data analysis experience developin...</td>\n",
       "    </tr>\n",
       "    <tr>\n",
       "      <th>587</th>\n",
       "      <td>Data Scientist, International Analytics</td>\n",
       "      <td>DoorDash</td>\n",
       "      <td>Melbourne VIC</td>\n",
       "      <td>NaN</td>\n",
       "      <td>5+ years of experience in data analytics, cons...</td>\n",
       "    </tr>\n",
       "    <tr>\n",
       "      <th>588</th>\n",
       "      <td>Senior Python Developer - Machine Learning &amp; A...</td>\n",
       "      <td>Limelight Consulting Group Pty Ltd</td>\n",
       "      <td>Sydney NSW</td>\n",
       "      <td>NaN</td>\n",
       "      <td>A real passion for machine learning, data stru...</td>\n",
       "    </tr>\n",
       "    <tr>\n",
       "      <th>589</th>\n",
       "      <td>Principal AI Engineer</td>\n",
       "      <td>Onset</td>\n",
       "      <td>Sydney NSW</td>\n",
       "      <td>NaN</td>\n",
       "      <td>Engaging customers are a deep and meaningful l...</td>\n",
       "    </tr>\n",
       "  </tbody>\n",
       "</table>\n",
       "</div>"
      ],
      "text/plain": [
       "                                             job_title  \\\n",
       "580                                 DevOps ML Engineer   \n",
       "581                Analytics Consultant - Fraud - APAC   \n",
       "582           Analytics Consulting Partner, Sydney CBD   \n",
       "583  Senior Machine Learning Engineer - Marketing T...   \n",
       "584  Machine Learning Engineer with Data Engineer/D...   \n",
       "585                            Lead Analytics Engineer   \n",
       "586                       Manager Analytics & Insights   \n",
       "587            Data Scientist, International Analytics   \n",
       "588  Senior Python Developer - Machine Learning & A...   \n",
       "589                              Principal AI Engineer   \n",
       "\n",
       "                           company_name company_location  \\\n",
       "580                            CSKnexus       Sydney NSW   \n",
       "581                    Eagna Consulting       Sydney NSW   \n",
       "582                             inDmand       Sydney NSW   \n",
       "583               Talent Insights Group       Sydney NSW   \n",
       "584                 Correlate Resources       Sydney NSW   \n",
       "585                             Talenza       Sydney NSW   \n",
       "586                               Mable       Sydney NSW   \n",
       "587                            DoorDash    Melbourne VIC   \n",
       "588  Limelight Consulting Group Pty Ltd       Sydney NSW   \n",
       "589                               Onset       Sydney NSW   \n",
       "\n",
       "                         salary  \\\n",
       "580                         NaN   \n",
       "581             $230,000 a year   \n",
       "582  $200,000 - $250,000 a year   \n",
       "583  $160,000 - $180,000 a year   \n",
       "584                         NaN   \n",
       "585                         NaN   \n",
       "586                         NaN   \n",
       "587                         NaN   \n",
       "588                         NaN   \n",
       "589                         NaN   \n",
       "\n",
       "                                           job_snippet  \n",
       "580  Expert with Cloud software and tools on data p...  \n",
       "581  Build analytical data models and present resul...  \n",
       "582  High profile role - Influence how this practic...  \n",
       "583  You will also help deploy and productionise ma...  \n",
       "584  Solid knowledge of data structures, algorithms...  \n",
       "585  You will be a key person working alongside mul...  \n",
       "586  5+ years of data analysis experience developin...  \n",
       "587  5+ years of experience in data analytics, cons...  \n",
       "588  A real passion for machine learning, data stru...  \n",
       "589  Engaging customers are a deep and meaningful l...  "
      ]
     },
     "execution_count": 338,
     "metadata": {},
     "output_type": "execute_result"
    }
   ],
   "source": [
    "# Australian jobs to dataframes\n",
    "\n",
    "AU_jobs = pd.DataFrame(list(zip(job_title_au, company_name_au, company_location_au, salary_au, snippet_au)),\n",
    "                    columns =['job_title', 'company_name', 'company_location', 'salary','job_snippet'])\n",
    "\n",
    "AU_jobs.tail(10)"
   ]
  },
  {
   "cell_type": "code",
   "execution_count": 339,
   "metadata": {},
   "outputs": [
    {
     "data": {
      "text/plain": [
       "job_title           272\n",
       "company_name        272\n",
       "company_location    272\n",
       "salary               60\n",
       "job_snippet         272\n",
       "dtype: int64"
      ]
     },
     "execution_count": 339,
     "metadata": {},
     "output_type": "execute_result"
    }
   ],
   "source": [
    "# Remove duplicates from AU jobs\n",
    "\n",
    "AU_jobs_no_dup = AU_jobs.drop_duplicates(subset=None, keep='first', inplace=False, ignore_index=False)\n",
    "AU_jobs_no_dup.count()"
   ]
  },
  {
   "cell_type": "code",
   "execution_count": 340,
   "metadata": {},
   "outputs": [],
   "source": [
    "# Save Austrialian jobs in a CSV\n",
    "\n",
    "AU_jobs_no_dup.to_csv('AU_jobs.csv')"
   ]
  },
  {
   "cell_type": "code",
   "execution_count": 354,
   "metadata": {},
   "outputs": [],
   "source": [
    "# Holders for American jobs\n",
    "\n",
    "job_title = []\n",
    "company_name = []\n",
    "company_location = []\n",
    "salary = []\n",
    "snippet = []\n"
   ]
  },
  {
   "cell_type": "code",
   "execution_count": null,
   "metadata": {},
   "outputs": [],
   "source": [
    "# Holder for already scraped cities\n",
    "\n",
    "scraped = ['New+York', 'Chicago', 'San+Francisco', 'Austin', 'Seattle', 'Los+Angeles', 'Philadelphia', 'Atlanta',\n",
    "           'Dallas', 'Pittsburgh', 'Portland', 'Phoenix', 'Denver','Houston', 'Miami', 'San+Antonio', 'San+Diego']\n",
    "\n",
    "not_scraped = ['Jacksonville','Sacramento']"
   ]
  },
  {
   "cell_type": "code",
   "execution_count": 355,
   "metadata": {
    "focus": false,
    "id": "04b0f9af-540e-402f-8292-81748707c676"
   },
   "outputs": [
    {
     "name": "stderr",
     "output_type": "stream",
     "text": [
      "100%|██████████| 167/167 [48:07<00:00, 17.29s/it]\n",
      "100%|██████████| 167/167 [47:18<00:00, 17.00s/it]\n"
     ]
    },
    {
     "data": {
      "text/plain": [
       "4973"
      ]
     },
     "execution_count": 355,
     "metadata": {},
     "output_type": "execute_result"
    }
   ],
   "source": [
    "max_results_per_city = 2672 # Set this to a high-value (5000) to generate more results. \n",
    "# Crawling more results, will also take much longer. First test your code on a small number of results and then expand.\n",
    "\n",
    "for city in set(['San+Jose','Remote']):\n",
    "    for start in tqdm(range(0, max_results_per_city, 16)):\n",
    "        url = \"http://www.indeed.com/jobs?q=data+scientist+%2420%2C000&l={}&start={}\".format(city,start)\n",
    "        r = requests.get(url)\n",
    "\n",
    "        sleep(randint(10,20))\n",
    "        soup = BeautifulSoup(r.text, 'html.parser')\n",
    "        for i in soup.find_all('div', class_='job_seen_beacon'):\n",
    "            job_title.append(find_job_title(i))\n",
    "            company_name.append(find_company_name(i))\n",
    "            company_location.append(find_company_location(i))\n",
    "            salary.append(find_salary(i))\n",
    "            snippet.append(find_job_snippet(i))\n",
    "            \n",
    "len(job_title)"
   ]
  },
  {
   "cell_type": "code",
   "execution_count": 356,
   "metadata": {},
   "outputs": [
    {
     "data": {
      "text/html": [
       "<div>\n",
       "<style scoped>\n",
       "    .dataframe tbody tr th:only-of-type {\n",
       "        vertical-align: middle;\n",
       "    }\n",
       "\n",
       "    .dataframe tbody tr th {\n",
       "        vertical-align: top;\n",
       "    }\n",
       "\n",
       "    .dataframe thead th {\n",
       "        text-align: right;\n",
       "    }\n",
       "</style>\n",
       "<table border=\"1\" class=\"dataframe\">\n",
       "  <thead>\n",
       "    <tr style=\"text-align: right;\">\n",
       "      <th></th>\n",
       "      <th>job_title</th>\n",
       "      <th>company_name</th>\n",
       "      <th>company_location</th>\n",
       "      <th>salary</th>\n",
       "      <th>job_snippet</th>\n",
       "    </tr>\n",
       "  </thead>\n",
       "  <tbody>\n",
       "    <tr>\n",
       "      <th>4963</th>\n",
       "      <td>Stat Programmer II</td>\n",
       "      <td>Gilead Sciences</td>\n",
       "      <td>Foster City, CA•Remote</td>\n",
       "      <td>NaN</td>\n",
       "      <td>Assists in submissions of electronic data (e.g...</td>\n",
       "    </tr>\n",
       "    <tr>\n",
       "      <th>4964</th>\n",
       "      <td>Actuary Assistant or Associate</td>\n",
       "      <td>Cambia Health Solutions</td>\n",
       "      <td>Seattle, WA 98101 (Denny Triangle area)•Remote</td>\n",
       "      <td>NaN</td>\n",
       "      <td>The Cambia Actuarial Division is responsible f...</td>\n",
       "    </tr>\n",
       "    <tr>\n",
       "      <th>4965</th>\n",
       "      <td>newSenior Statistician</td>\n",
       "      <td>NORC at the University of Chicago</td>\n",
       "      <td>Chicago, IL•Remote</td>\n",
       "      <td>NaN</td>\n",
       "      <td>Data integration—record linkage (entity resolu...</td>\n",
       "    </tr>\n",
       "    <tr>\n",
       "      <th>4966</th>\n",
       "      <td>Associate Data Science Director, Advanced Anal...</td>\n",
       "      <td>IQVIA</td>\n",
       "      <td>Remote</td>\n",
       "      <td>NaN</td>\n",
       "      <td>Ensure data quality throughout all stages of a...</td>\n",
       "    </tr>\n",
       "    <tr>\n",
       "      <th>4967</th>\n",
       "      <td>newPrincipal Field Solution Architect – Artifi...</td>\n",
       "      <td>CDW</td>\n",
       "      <td>Remote</td>\n",
       "      <td>NaN</td>\n",
       "      <td>Define the data elements shared between this b...</td>\n",
       "    </tr>\n",
       "    <tr>\n",
       "      <th>4968</th>\n",
       "      <td>Data Science Manager</td>\n",
       "      <td>Varo Money</td>\n",
       "      <td>Remote</td>\n",
       "      <td>NaN</td>\n",
       "      <td>Set requirements for experiments to ensure cle...</td>\n",
       "    </tr>\n",
       "    <tr>\n",
       "      <th>4969</th>\n",
       "      <td>Salesforce/Sitetracker - Senior Data Analyst -...</td>\n",
       "      <td>Lumen</td>\n",
       "      <td>Remote</td>\n",
       "      <td>NaN</td>\n",
       "      <td>Manipulate and conduct data analysis on large ...</td>\n",
       "    </tr>\n",
       "    <tr>\n",
       "      <th>4970</th>\n",
       "      <td>newPrincipal Statistician (Remote)</td>\n",
       "      <td>MSD</td>\n",
       "      <td>West Point, PA•Remote</td>\n",
       "      <td>NaN</td>\n",
       "      <td>You will be a key member of cross functional t...</td>\n",
       "    </tr>\n",
       "    <tr>\n",
       "      <th>4971</th>\n",
       "      <td>Sr. Principal Mission Engineer AI Programs</td>\n",
       "      <td>Northrop Grumman</td>\n",
       "      <td>Linthicum, MD•Remote</td>\n",
       "      <td>$145,000 - $217,400 a year</td>\n",
       "      <td>Telecommute: Yes- May Consider Occasional/Part...</td>\n",
       "    </tr>\n",
       "    <tr>\n",
       "      <th>4972</th>\n",
       "      <td>Corporate FSQA Statistician / Quality Engineer...</td>\n",
       "      <td>Ocean Spray</td>\n",
       "      <td>Las Vegas, NV•Remote</td>\n",
       "      <td>NaN</td>\n",
       "      <td>Able to utilize and critically evaluate data f...</td>\n",
       "    </tr>\n",
       "  </tbody>\n",
       "</table>\n",
       "</div>"
      ],
      "text/plain": [
       "                                              job_title  \\\n",
       "4963                                 Stat Programmer II   \n",
       "4964                     Actuary Assistant or Associate   \n",
       "4965                             newSenior Statistician   \n",
       "4966  Associate Data Science Director, Advanced Anal...   \n",
       "4967  newPrincipal Field Solution Architect – Artifi...   \n",
       "4968                               Data Science Manager   \n",
       "4969  Salesforce/Sitetracker - Senior Data Analyst -...   \n",
       "4970                 newPrincipal Statistician (Remote)   \n",
       "4971         Sr. Principal Mission Engineer AI Programs   \n",
       "4972  Corporate FSQA Statistician / Quality Engineer...   \n",
       "\n",
       "                           company_name  \\\n",
       "4963                    Gilead Sciences   \n",
       "4964            Cambia Health Solutions   \n",
       "4965  NORC at the University of Chicago   \n",
       "4966                              IQVIA   \n",
       "4967                                CDW   \n",
       "4968                         Varo Money   \n",
       "4969                              Lumen   \n",
       "4970                                MSD   \n",
       "4971                   Northrop Grumman   \n",
       "4972                        Ocean Spray   \n",
       "\n",
       "                                    company_location  \\\n",
       "4963                          Foster City, CA•Remote   \n",
       "4964  Seattle, WA 98101 (Denny Triangle area)•Remote   \n",
       "4965                              Chicago, IL•Remote   \n",
       "4966                                          Remote   \n",
       "4967                                          Remote   \n",
       "4968                                          Remote   \n",
       "4969                                          Remote   \n",
       "4970                           West Point, PA•Remote   \n",
       "4971                            Linthicum, MD•Remote   \n",
       "4972                            Las Vegas, NV•Remote   \n",
       "\n",
       "                          salary  \\\n",
       "4963                         NaN   \n",
       "4964                         NaN   \n",
       "4965                         NaN   \n",
       "4966                         NaN   \n",
       "4967                         NaN   \n",
       "4968                         NaN   \n",
       "4969                         NaN   \n",
       "4970                         NaN   \n",
       "4971  $145,000 - $217,400 a year   \n",
       "4972                         NaN   \n",
       "\n",
       "                                            job_snippet  \n",
       "4963  Assists in submissions of electronic data (e.g...  \n",
       "4964  The Cambia Actuarial Division is responsible f...  \n",
       "4965  Data integration—record linkage (entity resolu...  \n",
       "4966  Ensure data quality throughout all stages of a...  \n",
       "4967  Define the data elements shared between this b...  \n",
       "4968  Set requirements for experiments to ensure cle...  \n",
       "4969  Manipulate and conduct data analysis on large ...  \n",
       "4970  You will be a key member of cross functional t...  \n",
       "4971  Telecommute: Yes- May Consider Occasional/Part...  \n",
       "4972  Able to utilize and critically evaluate data f...  "
      ]
     },
     "execution_count": 356,
     "metadata": {},
     "output_type": "execute_result"
    }
   ],
   "source": [
    "US_jobs = pd.DataFrame(list(zip(job_title, company_name, company_location, salary, snippet)),\n",
    "                    columns =['job_title', 'company_name', 'company_location', 'salary','job_snippet'])\n",
    "\n",
    "US_jobs.tail(10)"
   ]
  },
  {
   "cell_type": "code",
   "execution_count": 357,
   "metadata": {},
   "outputs": [
    {
     "data": {
      "text/plain": [
       "(1237, 5)"
      ]
     },
     "execution_count": 357,
     "metadata": {},
     "output_type": "execute_result"
    }
   ],
   "source": [
    "# Each set of US jobs had thier duplicates dropped\n",
    "\n",
    "US_jobs_no_dup = US_jobs.drop_duplicates(subset=None, keep='first', inplace=False, ignore_index=False)\n",
    "US_jobs_no_dup\n",
    "US_jobs_no_dup.shape"
   ]
  },
  {
   "cell_type": "code",
   "execution_count": 358,
   "metadata": {},
   "outputs": [
    {
     "data": {
      "text/plain": [
       "job_title           1237\n",
       "company_name        1237\n",
       "company_location    1237\n",
       "salary                62\n",
       "job_snippet         1237\n",
       "dtype: int64"
      ]
     },
     "execution_count": 358,
     "metadata": {},
     "output_type": "execute_result"
    }
   ],
   "source": [
    "# Check how many salaries were in this scrape \n",
    "\n",
    "US_jobs_no_dup.count()"
   ]
  },
  {
   "cell_type": "code",
   "execution_count": 359,
   "metadata": {},
   "outputs": [],
   "source": [
    "# Save the scrapped American Jobs (Each CSV names the range of cities, the full range can be found in 'scraped')\n",
    "\n",
    "US_jobs_no_dup.to_csv('US_jobs(San_Jose_Remote.csv')"
   ]
  },
  {
   "cell_type": "code",
   "execution_count": 193,
   "metadata": {
    "focus": false,
    "id": "6e259594-1c52-436b-ab9e-527e071941c1"
   },
   "outputs": [],
   "source": [
    "# Scraping UK jobs\n",
    "\n",
    "URL = 'https://uk.indeed.com/jobs?q=data%20scientist&l=United%20Kingdom&start=0'"
   ]
  },
  {
   "cell_type": "code",
   "execution_count": 194,
   "metadata": {},
   "outputs": [],
   "source": [
    "s = requests.get(URL)"
   ]
  },
  {
   "cell_type": "code",
   "execution_count": 195,
   "metadata": {},
   "outputs": [],
   "source": [
    "soup = BeautifulSoup(s.text, 'html.parser')"
   ]
  },
  {
   "cell_type": "code",
   "execution_count": 217,
   "metadata": {},
   "outputs": [],
   "source": [
    "job_title3 = []\n",
    "company_name3 = []\n",
    "company_location3 = []\n",
    "salary3 = []\n",
    "snippet3 = []\n"
   ]
  },
  {
   "cell_type": "code",
   "execution_count": 221,
   "metadata": {
    "scrolled": true
   },
   "outputs": [
    {
     "name": "stderr",
     "output_type": "stream",
     "text": [
      "  1%|          | 3/313 [00:08<15:00,  2.91s/it]\n"
     ]
    },
    {
     "ename": "KeyboardInterrupt",
     "evalue": "",
     "output_type": "error",
     "traceback": [
      "\u001b[0;31m---------------------------------------------------------------------------\u001b[0m",
      "\u001b[0;31mKeyboardInterrupt\u001b[0m                         Traceback (most recent call last)",
      "\u001b[0;32m<ipython-input-221-26a6e4037cf2>\u001b[0m in \u001b[0;36m<module>\u001b[0;34m\u001b[0m\n\u001b[1;32m      4\u001b[0m     \u001b[0mr\u001b[0m \u001b[0;34m=\u001b[0m \u001b[0mrequests\u001b[0m\u001b[0;34m.\u001b[0m\u001b[0mget\u001b[0m\u001b[0;34m(\u001b[0m\u001b[0murl\u001b[0m\u001b[0;34m)\u001b[0m\u001b[0;34m\u001b[0m\u001b[0;34m\u001b[0m\u001b[0m\n\u001b[1;32m      5\u001b[0m \u001b[0;34m\u001b[0m\u001b[0m\n\u001b[0;32m----> 6\u001b[0;31m     \u001b[0msleep\u001b[0m\u001b[0;34m(\u001b[0m\u001b[0mrandint\u001b[0m\u001b[0;34m(\u001b[0m\u001b[0;36m1\u001b[0m\u001b[0;34m,\u001b[0m\u001b[0;36m3\u001b[0m\u001b[0;34m)\u001b[0m\u001b[0;34m)\u001b[0m\u001b[0;34m\u001b[0m\u001b[0;34m\u001b[0m\u001b[0m\n\u001b[0m\u001b[1;32m      7\u001b[0m \u001b[0;34m\u001b[0m\u001b[0m\n\u001b[1;32m      8\u001b[0m     \u001b[0msoup\u001b[0m \u001b[0;34m=\u001b[0m \u001b[0mBeautifulSoup\u001b[0m\u001b[0;34m(\u001b[0m\u001b[0mr\u001b[0m\u001b[0;34m.\u001b[0m\u001b[0mtext\u001b[0m\u001b[0;34m,\u001b[0m \u001b[0;34m'html.parser'\u001b[0m\u001b[0;34m)\u001b[0m\u001b[0;34m\u001b[0m\u001b[0;34m\u001b[0m\u001b[0m\n",
      "\u001b[0;31mKeyboardInterrupt\u001b[0m: "
     ]
    }
   ],
   "source": [
    "# Finding information: \n",
    "for start in tqdm(range(0, 5000, 16)):\n",
    "    url = \"https://uk.indeed.com/jobs?q=data%20scientist&l=United%20Kingdom&start={}\".format(start)\n",
    "    r = requests.get(url)\n",
    "\n",
    "    sleep(randint(1,3))\n",
    "    \n",
    "    soup = BeautifulSoup(r.text, 'html.parser')\n",
    "    \n",
    "    for i in soup.find_all('div', class_='job_seen_beacon'):\n",
    "        job_title3.append(find_job_title(i))\n",
    "        company_name3.append(find_company_name(i))\n",
    "        company_location3.append(find_company_location(i))\n",
    "        salary3.append(find_salary2(i))\n",
    "        snippet3.append(find_job_snippet(i))\n",
    "    \n",
    "    \n",
    "UK_jobs_test = pd.DataFrame(list(zip(job_title3, company_name3, company_location3, salary3, snippet3)),\n",
    "               columns =['job_title', 'company_name', 'company_location', 'salary','job_snippet'])\n",
    "\n",
    "UK_jobs_test.head(5)\n",
    "\n",
    "# This cell has an error below as I had finished scraping and accidentally ran the code again (oops)\n",
    "# The error is from me interupting the kernel "
   ]
  },
  {
   "cell_type": "code",
   "execution_count": 224,
   "metadata": {},
   "outputs": [],
   "source": [
    "# Turn Uk jobs to CSV for saving (the duplicates have been removed in the file called Uk jobs) \n",
    "\n",
    "UK_jobs_test.to_csv('UK_jobs.csv')"
   ]
  },
  {
   "cell_type": "code",
   "execution_count": 222,
   "metadata": {},
   "outputs": [
    {
     "data": {
      "text/html": [
       "<div>\n",
       "<style scoped>\n",
       "    .dataframe tbody tr th:only-of-type {\n",
       "        vertical-align: middle;\n",
       "    }\n",
       "\n",
       "    .dataframe tbody tr th {\n",
       "        vertical-align: top;\n",
       "    }\n",
       "\n",
       "    .dataframe thead th {\n",
       "        text-align: right;\n",
       "    }\n",
       "</style>\n",
       "<table border=\"1\" class=\"dataframe\">\n",
       "  <thead>\n",
       "    <tr style=\"text-align: right;\">\n",
       "      <th></th>\n",
       "      <th>job_title</th>\n",
       "      <th>company_name</th>\n",
       "      <th>company_location</th>\n",
       "      <th>salary</th>\n",
       "      <th>job_snippet</th>\n",
       "    </tr>\n",
       "  </thead>\n",
       "  <tbody>\n",
       "    <tr>\n",
       "      <th>0</th>\n",
       "      <td>Graduate Data Scientist</td>\n",
       "      <td>L&amp;Q</td>\n",
       "      <td>Stratford•Temporarily Remote</td>\n",
       "      <td>£27,000 a year</td>\n",
       "      <td>You will join a small but strong team of data ...</td>\n",
       "    </tr>\n",
       "    <tr>\n",
       "      <th>1</th>\n",
       "      <td>Machine Learning Engineer - Recommendation</td>\n",
       "      <td>ByteDance</td>\n",
       "      <td>London</td>\n",
       "      <td>£33,894 - £92,797 a year</td>\n",
       "      <td>Experience in one or more of the following are...</td>\n",
       "    </tr>\n",
       "    <tr>\n",
       "      <th>2</th>\n",
       "      <td>Data scientist - Data base expert</td>\n",
       "      <td>JEOL</td>\n",
       "      <td>Long Hanborough OX29 8LJ•Remote</td>\n",
       "      <td>£50,000 - £61,000 a year</td>\n",
       "      <td>Create a solution and user tools to store and ...</td>\n",
       "    </tr>\n",
       "    <tr>\n",
       "      <th>3</th>\n",
       "      <td>Rapidminer Data Scientist</td>\n",
       "      <td>Intelligent Data Technologies Limited (Lucid)</td>\n",
       "      <td>London•Remote</td>\n",
       "      <td>£35,000 - £82,000 a year</td>\n",
       "      <td>Apply all phases of the data science process f...</td>\n",
       "    </tr>\n",
       "    <tr>\n",
       "      <th>4</th>\n",
       "      <td>Junior Data Scientist</td>\n",
       "      <td>Novafutur</td>\n",
       "      <td>London</td>\n",
       "      <td>NaN</td>\n",
       "      <td>Being a data scientist would require the abili...</td>\n",
       "    </tr>\n",
       "  </tbody>\n",
       "</table>\n",
       "</div>"
      ],
      "text/plain": [
       "                                    job_title  \\\n",
       "0                     Graduate Data Scientist   \n",
       "1  Machine Learning Engineer - Recommendation   \n",
       "2           Data scientist - Data base expert   \n",
       "3                   Rapidminer Data Scientist   \n",
       "4                       Junior Data Scientist   \n",
       "\n",
       "                                    company_name  \\\n",
       "0                                            L&Q   \n",
       "1                                      ByteDance   \n",
       "2                                           JEOL   \n",
       "3  Intelligent Data Technologies Limited (Lucid)   \n",
       "4                                      Novafutur   \n",
       "\n",
       "                  company_location                    salary  \\\n",
       "0     Stratford•Temporarily Remote            £27,000 a year   \n",
       "1                           London  £33,894 - £92,797 a year   \n",
       "2  Long Hanborough OX29 8LJ•Remote  £50,000 - £61,000 a year   \n",
       "3                    London•Remote  £35,000 - £82,000 a year   \n",
       "4                           London                       NaN   \n",
       "\n",
       "                                         job_snippet  \n",
       "0  You will join a small but strong team of data ...  \n",
       "1  Experience in one or more of the following are...  \n",
       "2  Create a solution and user tools to store and ...  \n",
       "3  Apply all phases of the data science process f...  \n",
       "4  Being a data scientist would require the abili...  "
      ]
     },
     "execution_count": 222,
     "metadata": {},
     "output_type": "execute_result"
    }
   ],
   "source": [
    "UK_jobs_test.head(5)"
   ]
  },
  {
   "cell_type": "code",
   "execution_count": 220,
   "metadata": {},
   "outputs": [
    {
     "data": {
      "text/plain": [
       "job_title           4384\n",
       "company_name        4383\n",
       "company_location    4384\n",
       "salary              1024\n",
       "job_snippet         4384\n",
       "dtype: int64"
      ]
     },
     "execution_count": 220,
     "metadata": {},
     "output_type": "execute_result"
    }
   ],
   "source": [
    "UK_jobs_test.count()"
   ]
  },
  {
   "cell_type": "code",
   "execution_count": null,
   "metadata": {},
   "outputs": [],
   "source": [
    "# Holders for Ireland jobs\n",
    "\n",
    "job_title4 = []\n",
    "company_name4 = []\n",
    "company_location4 = []\n",
    "salary4 = []\n",
    "snippet4 = []"
   ]
  },
  {
   "cell_type": "code",
   "execution_count": 199,
   "metadata": {},
   "outputs": [
    {
     "data": {
      "text/plain": [
       "3000"
      ]
     },
     "execution_count": 199,
     "metadata": {},
     "output_type": "execute_result"
    }
   ],
   "source": [
    "# Scraping Ireland Jobs \n",
    "\n",
    "for start in tqdm(range(0,5000,16)):\n",
    "    url = 'https://uk.indeed.com/jobs?q=data%20scientist&l=Ireland&start={}'.format(start)\n",
    "    r = requests.get(url)\n",
    "    \n",
    "    soup = BeautifulSout(r.text, 'html.parser')\n",
    "        \n",
    "    for i in soup.find_all('div', class_='job_seen_beacon'):\n",
    "        job_title4.append(find_job_title(i))\n",
    "        company_name4.append(find_company_name(i))\n",
    "        company_location4.append(find_company_location(i))\n",
    "        salary4.append(find_salary2(i))\n",
    "        snippet4.append(find_job_snippet(i))\n",
    "            "
   ]
  },
  {
   "cell_type": "code",
   "execution_count": 353,
   "metadata": {},
   "outputs": [],
   "source": [
    "# Dataframe of Ireland Jobs\n",
    "\n",
    "# IE_jobs = pd.DataFrame(list(zip(job_title, company_name, company_location, salary, snippet)),\n",
    "               # columns =['job_title', 'company_name', 'company_location', 'salary','job_snippet'])"
   ]
  },
  {
   "cell_type": "code",
   "execution_count": 203,
   "metadata": {},
   "outputs": [],
   "source": [
    "IE_jobs.to_csv('IE_jobs.csv')"
   ]
  },
  {
   "cell_type": "markdown",
   "metadata": {
    "focus": false,
    "id": "ff98ce64-78a7-441f-a675-63464e32c834"
   },
   "source": [
    "Lastly, we need to clean up salary data. \n",
    "\n",
    "1. Only a small number of the scraped results have salary information - only these will be used for modeling.\n",
    "1. Some of the salaries are not yearly but hourly or weekly, these will not be useful to us for now.\n",
    "1. Some of the entries may be duplicated.\n",
    "1. The salaries are given as text and usually with ranges."
   ]
  },
  {
   "cell_type": "markdown",
   "metadata": {
    "focus": false,
    "id": "ff98ce64-78a7-441f-a675-63464e32c834"
   },
   "source": [
    "#### Find the entries with annual salary entries, by filtering the entries without salaries or salaries that are not yearly (filter those that refer to hour or week). Also, remove duplicate entries."
   ]
  },
  {
   "cell_type": "markdown",
   "metadata": {
    "focus": false,
    "id": "7d4bc860-b214-4f75-9cd0-b234830b1ec2"
   },
   "source": [
    "#### Write a function that takes a salary string and converts it to a number, averaging a salary range if necessary."
   ]
  },
  {
   "cell_type": "markdown",
   "metadata": {
    "focus": false,
    "id": "43e71edd-210e-42b1-9336-70a931f048af"
   },
   "source": [
    "### Save your results as a CSV"
   ]
  },
  {
   "cell_type": "markdown",
   "metadata": {
    "focus": false,
    "id": "783fd153-28ac-47ab-bfca-27e7c1de95b4"
   },
   "source": [
    "## Notes\n",
    "\n",
    "You will find the dataframes from CSV files cleaned in individual notebooks named e.g Uk jobs / Canada Jobs.\n",
    "The data is then reconverted to CSV and named e.g ie_df. \n",
    "The units of currently have already been converted to GBP. "
   ]
  },
  {
   "cell_type": "markdown",
   "metadata": {
    "focus": false,
    "id": "243e949e-2742-40af-872e-fec475fd306c"
   },
   "source": [
    "### Load in the the data of scraped salaries"
   ]
  },
  {
   "cell_type": "code",
   "execution_count": 241,
   "metadata": {},
   "outputs": [],
   "source": [
    "import pandas as pd"
   ]
  },
  {
   "cell_type": "code",
   "execution_count": 242,
   "metadata": {
    "focus": false,
    "id": "588f9845-6143-4bcc-bfd1-85d45b79303d"
   },
   "outputs": [],
   "source": [
    "df1 = pd.read_csv('au_df')\n",
    "df2 = pd.read_csv('ie_df')\n",
    "df3 = pd.read_csv('uk_df')\n",
    "df4 = pd.read_csv('ca_df')\n",
    "df5 = pd.read_csv('us_df')"
   ]
  },
  {
   "cell_type": "code",
   "execution_count": 243,
   "metadata": {},
   "outputs": [
    {
     "data": {
      "text/plain": [
       "job_title           918\n",
       "company_name        918\n",
       "company_location    918\n",
       "salary              918\n",
       "job_snippet         918\n",
       "country_location    918\n",
       "dtype: int64"
      ]
     },
     "execution_count": 243,
     "metadata": {},
     "output_type": "execute_result"
    }
   ],
   "source": [
    "frames = [df1, df2, df3, df4, df5]\n",
    "\n",
    "jobs = pd.concat(frames)\n",
    "\n",
    "jobs = jobs.drop(columns='Unnamed: 0')\n",
    "\n",
    "jobs.count()"
   ]
  },
  {
   "cell_type": "code",
   "execution_count": 244,
   "metadata": {},
   "outputs": [
    {
     "name": "stdout",
     "output_type": "stream",
     "text": [
      "<class 'pandas.core.frame.DataFrame'>\n",
      "Int64Index: 918 entries, 0 to 261\n",
      "Data columns (total 6 columns):\n",
      " #   Column            Non-Null Count  Dtype  \n",
      "---  ------            --------------  -----  \n",
      " 0   job_title         918 non-null    object \n",
      " 1   company_name      918 non-null    object \n",
      " 2   company_location  918 non-null    object \n",
      " 3   salary            918 non-null    float64\n",
      " 4   job_snippet       918 non-null    object \n",
      " 5   country_location  918 non-null    object \n",
      "dtypes: float64(1), object(5)\n",
      "memory usage: 50.2+ KB\n"
     ]
    }
   ],
   "source": [
    "jobs.info()"
   ]
  },
  {
   "cell_type": "markdown",
   "metadata": {
    "focus": false,
    "id": "c7631f51-07f2-4c79-a093-3e9bc7849a48"
   },
   "source": [
    "### We want to predict a binary variable - whether the salary was low or high. Compute the median salary and create a new binary variable that is true when the salary is high (above the median).\n",
    "\n",
    "We could also perform Linear Regression (or any regression) to predict the salary value here. Instead, we are going to convert this into a _binary_ classification problem, by predicting two classes, HIGH vs LOW salary.\n",
    "\n",
    "While performing regression may be better, performing classification may help remove some of the noise of the extreme salaries. We don't have to choose the `median` as the splitting point - we could also split on the 75th percentile or any other reasonable breaking point.\n",
    "\n",
    "In fact, the ideal scenario may be to predict many levels of salaries."
   ]
  },
  {
   "cell_type": "code",
   "execution_count": 245,
   "metadata": {
    "focus": false,
    "id": "c20d2498-151c-44c3-a453-3a333c79a0ac"
   },
   "outputs": [
    {
     "data": {
      "text/plain": [
       "59793.49130718953"
      ]
     },
     "execution_count": 245,
     "metadata": {},
     "output_type": "execute_result"
    }
   ],
   "source": [
    "jobs.salary.mean()"
   ]
  },
  {
   "cell_type": "code",
   "execution_count": 246,
   "metadata": {},
   "outputs": [
    {
     "data": {
      "text/plain": [
       "57437.5"
      ]
     },
     "execution_count": 246,
     "metadata": {},
     "output_type": "execute_result"
    }
   ],
   "source": [
    "jobs.salary.median()"
   ]
  },
  {
   "cell_type": "code",
   "execution_count": 247,
   "metadata": {},
   "outputs": [],
   "source": [
    "import seaborn as sns"
   ]
  },
  {
   "cell_type": "code",
   "execution_count": 248,
   "metadata": {},
   "outputs": [
    {
     "data": {
      "image/png": "[encoded data removed]",
      "text/plain": [
       "<Figure size 432x288 with 1 Axes>"
      ]
     },
     "metadata": {
      "needs_background": "light"
     },
     "output_type": "display_data"
    }
   ],
   "source": [
    "sns.histplot(jobs.salary);"
   ]
  },
  {
   "cell_type": "code",
   "execution_count": 249,
   "metadata": {},
   "outputs": [
    {
     "data": {
      "image/png": "[encoded data removed]",
      "text/plain": [
       "<Figure size 432x288 with 1 Axes>"
      ]
     },
     "metadata": {
      "needs_background": "light"
     },
     "output_type": "display_data"
    }
   ],
   "source": [
    "jobs.boxplot(column='salary');"
   ]
  },
  {
   "cell_type": "markdown",
   "metadata": {},
   "source": [
    "We can see from the histogram the distribution is slightly positively skewed.\n",
    "We can see from the boxplot there are upper outliers.\n",
    "Due to this we should use the median as the more appropriate average to split the salaries. "
   ]
  },
  {
   "cell_type": "code",
   "execution_count": 250,
   "metadata": {},
   "outputs": [
    {
     "data": {
      "text/plain": [
       "57437.5"
      ]
     },
     "execution_count": 250,
     "metadata": {},
     "output_type": "execute_result"
    }
   ],
   "source": [
    "median = jobs.salary.median()\n",
    "median"
   ]
  },
  {
   "cell_type": "code",
   "execution_count": 251,
   "metadata": {},
   "outputs": [],
   "source": [
    "def classify_salary(x):\n",
    "    if x >= median:\n",
    "        return 1\n",
    "    else:\n",
    "        return 0"
   ]
  },
  {
   "cell_type": "code",
   "execution_count": 252,
   "metadata": {},
   "outputs": [],
   "source": [
    "jobs['salary_class'] = jobs.salary.map(classify_salary)"
   ]
  },
  {
   "cell_type": "code",
   "execution_count": 253,
   "metadata": {},
   "outputs": [
    {
     "data": {
      "text/html": [
       "<div>\n",
       "<style scoped>\n",
       "    .dataframe tbody tr th:only-of-type {\n",
       "        vertical-align: middle;\n",
       "    }\n",
       "\n",
       "    .dataframe tbody tr th {\n",
       "        vertical-align: top;\n",
       "    }\n",
       "\n",
       "    .dataframe thead th {\n",
       "        text-align: right;\n",
       "    }\n",
       "</style>\n",
       "<table border=\"1\" class=\"dataframe\">\n",
       "  <thead>\n",
       "    <tr style=\"text-align: right;\">\n",
       "      <th></th>\n",
       "      <th>job_title</th>\n",
       "      <th>company_name</th>\n",
       "      <th>company_location</th>\n",
       "      <th>salary</th>\n",
       "      <th>job_snippet</th>\n",
       "      <th>country_location</th>\n",
       "      <th>salary_class</th>\n",
       "    </tr>\n",
       "  </thead>\n",
       "  <tbody>\n",
       "    <tr>\n",
       "      <th>0</th>\n",
       "      <td>newEcologist/Data Scientist</td>\n",
       "      <td>Department of Agriculture &amp; Water Resources</td>\n",
       "      <td>Darwin NT</td>\n",
       "      <td>62838.6</td>\n",
       "      <td>Experience developing AI/deep learning workflo...</td>\n",
       "      <td>AU</td>\n",
       "      <td>1</td>\n",
       "    </tr>\n",
       "    <tr>\n",
       "      <th>1</th>\n",
       "      <td>newEcologist/Data Scientist</td>\n",
       "      <td>Australian Department of the Environment</td>\n",
       "      <td>Darwin NT</td>\n",
       "      <td>62838.6</td>\n",
       "      <td>Experience developing AI/deep learning workflo...</td>\n",
       "      <td>AU</td>\n",
       "      <td>1</td>\n",
       "    </tr>\n",
       "    <tr>\n",
       "      <th>2</th>\n",
       "      <td>newData Scientist</td>\n",
       "      <td>The Staffing Group</td>\n",
       "      <td>Sydney NSW+1 location</td>\n",
       "      <td>63250.0</td>\n",
       "      <td>A strong background in data science, analytics...</td>\n",
       "      <td>AU</td>\n",
       "      <td>1</td>\n",
       "    </tr>\n",
       "    <tr>\n",
       "      <th>3</th>\n",
       "      <td>newData Professional - Data Analyst/Scientist ...</td>\n",
       "      <td>The Staffing Group</td>\n",
       "      <td>Melbourne VIC+1 location</td>\n",
       "      <td>52250.0</td>\n",
       "      <td>We are looking for a data analyst/scientist wh...</td>\n",
       "      <td>AU</td>\n",
       "      <td>0</td>\n",
       "    </tr>\n",
       "    <tr>\n",
       "      <th>4</th>\n",
       "      <td>Junior Machine Learning Engineer</td>\n",
       "      <td>XY Sense</td>\n",
       "      <td>Melbourne VIC</td>\n",
       "      <td>44000.0</td>\n",
       "      <td>Reporting directly to the CTO with technical l...</td>\n",
       "      <td>AU</td>\n",
       "      <td>0</td>\n",
       "    </tr>\n",
       "    <tr>\n",
       "      <th>...</th>\n",
       "      <td>...</td>\n",
       "      <td>...</td>\n",
       "      <td>...</td>\n",
       "      <td>...</td>\n",
       "      <td>...</td>\n",
       "      <td>...</td>\n",
       "      <td>...</td>\n",
       "    </tr>\n",
       "    <tr>\n",
       "      <th>257</th>\n",
       "      <td>Data Scientist - Nationwide Opportunities</td>\n",
       "      <td>Amazon Web Services, Inc.</td>\n",
       "      <td>Houston, TX</td>\n",
       "      <td>84878.0</td>\n",
       "      <td>Experience in an ML engineer or data scientist...</td>\n",
       "      <td>US</td>\n",
       "      <td>1</td>\n",
       "    </tr>\n",
       "    <tr>\n",
       "      <th>258</th>\n",
       "      <td>Senior Data Engineer</td>\n",
       "      <td>Xecta</td>\n",
       "      <td>Houston, TX</td>\n",
       "      <td>92500.0</td>\n",
       "      <td>The data engineer will support our software de...</td>\n",
       "      <td>US</td>\n",
       "      <td>1</td>\n",
       "    </tr>\n",
       "    <tr>\n",
       "      <th>259</th>\n",
       "      <td>Natural Language Programming Specialist</td>\n",
       "      <td>Statistical Vision</td>\n",
       "      <td>Houston, TX 77043 (Spring Branch West area)•Te...</td>\n",
       "      <td>59200.0</td>\n",
       "      <td>Conduct sentiment analysis and other text clas...</td>\n",
       "      <td>US</td>\n",
       "      <td>1</td>\n",
       "    </tr>\n",
       "    <tr>\n",
       "      <th>260</th>\n",
       "      <td>Data Scientist</td>\n",
       "      <td>WALT Labs</td>\n",
       "      <td>Spring, TX</td>\n",
       "      <td>59940.0</td>\n",
       "      <td>Present information using data visualization t...</td>\n",
       "      <td>US</td>\n",
       "      <td>1</td>\n",
       "    </tr>\n",
       "    <tr>\n",
       "      <th>261</th>\n",
       "      <td>Natural Language Programming Specialist</td>\n",
       "      <td>Statistical Vision</td>\n",
       "      <td>Houston, TX 77043 (Spring Branch West area)•Te...</td>\n",
       "      <td>59200.0</td>\n",
       "      <td>Conduct sentiment analysis and other text clas...</td>\n",
       "      <td>US</td>\n",
       "      <td>1</td>\n",
       "    </tr>\n",
       "  </tbody>\n",
       "</table>\n",
       "<p>918 rows × 7 columns</p>\n",
       "</div>"
      ],
      "text/plain": [
       "                                             job_title  \\\n",
       "0                          newEcologist/Data Scientist   \n",
       "1                          newEcologist/Data Scientist   \n",
       "2                                    newData Scientist   \n",
       "3    newData Professional - Data Analyst/Scientist ...   \n",
       "4                     Junior Machine Learning Engineer   \n",
       "..                                                 ...   \n",
       "257          Data Scientist - Nationwide Opportunities   \n",
       "258                               Senior Data Engineer   \n",
       "259            Natural Language Programming Specialist   \n",
       "260                                     Data Scientist   \n",
       "261            Natural Language Programming Specialist   \n",
       "\n",
       "                                    company_name  \\\n",
       "0    Department of Agriculture & Water Resources   \n",
       "1       Australian Department of the Environment   \n",
       "2                             The Staffing Group   \n",
       "3                             The Staffing Group   \n",
       "4                                       XY Sense   \n",
       "..                                           ...   \n",
       "257                    Amazon Web Services, Inc.   \n",
       "258                                        Xecta   \n",
       "259                           Statistical Vision   \n",
       "260                                    WALT Labs   \n",
       "261                           Statistical Vision   \n",
       "\n",
       "                                      company_location   salary  \\\n",
       "0                                            Darwin NT  62838.6   \n",
       "1                                            Darwin NT  62838.6   \n",
       "2                                Sydney NSW+1 location  63250.0   \n",
       "3                             Melbourne VIC+1 location  52250.0   \n",
       "4                                        Melbourne VIC  44000.0   \n",
       "..                                                 ...      ...   \n",
       "257                                        Houston, TX  84878.0   \n",
       "258                                        Houston, TX  92500.0   \n",
       "259  Houston, TX 77043 (Spring Branch West area)•Te...  59200.0   \n",
       "260                                         Spring, TX  59940.0   \n",
       "261  Houston, TX 77043 (Spring Branch West area)•Te...  59200.0   \n",
       "\n",
       "                                           job_snippet country_location  \\\n",
       "0    Experience developing AI/deep learning workflo...               AU   \n",
       "1    Experience developing AI/deep learning workflo...               AU   \n",
       "2    A strong background in data science, analytics...               AU   \n",
       "3    We are looking for a data analyst/scientist wh...               AU   \n",
       "4    Reporting directly to the CTO with technical l...               AU   \n",
       "..                                                 ...              ...   \n",
       "257  Experience in an ML engineer or data scientist...               US   \n",
       "258  The data engineer will support our software de...               US   \n",
       "259  Conduct sentiment analysis and other text clas...               US   \n",
       "260  Present information using data visualization t...               US   \n",
       "261  Conduct sentiment analysis and other text clas...               US   \n",
       "\n",
       "     salary_class  \n",
       "0               1  \n",
       "1               1  \n",
       "2               1  \n",
       "3               0  \n",
       "4               0  \n",
       "..            ...  \n",
       "257             1  \n",
       "258             1  \n",
       "259             1  \n",
       "260             1  \n",
       "261             1  \n",
       "\n",
       "[918 rows x 7 columns]"
      ]
     },
     "execution_count": 253,
     "metadata": {},
     "output_type": "execute_result"
    }
   ],
   "source": [
    "jobs"
   ]
  },
  {
   "cell_type": "markdown",
   "metadata": {
    "focus": false,
    "id": "a7afb2c0-d41e-4779-8216-91cd8dd4473f"
   },
   "source": [
    "#### Thought experiment: What is the baseline accuracy for this model?"
   ]
  },
  {
   "cell_type": "code",
   "execution_count": 254,
   "metadata": {
    "focus": false,
    "id": "87a17d3d-b7f4-4747-9f75-f9af1d18a174"
   },
   "outputs": [
    {
     "data": {
      "text/plain": [
       "0.5"
      ]
     },
     "execution_count": 254,
     "metadata": {},
     "output_type": "execute_result"
    }
   ],
   "source": [
    "jobs.salary_class.value_counts(normalize=True).max()"
   ]
  },
  {
   "cell_type": "markdown",
   "metadata": {},
   "source": [
    "The baseline of a binary classification model split on the median will always be 0.5 as the median splits the data into two equal parts\n",
    "\n",
    "A binary classification split on the mean would not have a 0.5 baseline unless the data was symmetrical "
   ]
  },
  {
   "cell_type": "markdown",
   "metadata": {
    "focus": false,
    "id": "4fb29de2-5b98-474c-a4ad-5170b72b9aea"
   },
   "source": [
    "### Create a classification model to predict High/Low salary. \n",
    "\n",
    "\n",
    "- Start by ONLY using the location as a feature.\n",
    "- Use at least two different classifiers you find suitable.\n",
    "- Remember that scaling your features might be necessary.\n",
    "- Display the coefficients/feature importances and write a short summary of what they mean.\n",
    "- Create a few new variables in your dataframe to represent interesting features of a job title (e.g. whether 'Senior' or 'Manager' is in the title).\n",
    "- Incorporate other text features from the title or summary that you believe will predict the salary.\n",
    "- Then build new classification models including also those features. Do they add any value?\n",
    "- Tune your models by testing parameter ranges, regularization strengths, etc. Discuss how that affects your models.\n",
    "- Discuss model coefficients or feature importances as applicable."
   ]
  },
  {
   "cell_type": "code",
   "execution_count": 255,
   "metadata": {},
   "outputs": [],
   "source": [
    "from sklearn.model_selection import train_test_split\n",
    "from sklearn.preprocessing import StandardScaler\n",
    "from sklearn.linear_model import LogisticRegression\n",
    "from sklearn.model_selection import cross_val_score\n",
    "from sklearn.model_selection import GridSearchCV\n",
    "import numpy as np\n",
    "from sklearn.neighbors import KNeighborsClassifier\n",
    "from sklearn.tree import DecisionTreeClassifier\n",
    "from sklearn.ensemble import BaggingClassifier, RandomForestClassifier\n",
    "from sklearn.ensemble import RandomForestClassifier, ExtraTreesClassifier"
   ]
  },
  {
   "cell_type": "code",
   "execution_count": 256,
   "metadata": {},
   "outputs": [],
   "source": [
    "# Model fitter function to give the CV scores, mean CV score and training and test scores\n",
    "\n",
    "def model_fitter(model, X_train, y_train, X_test, y_test, cv=5):\n",
    "    model.fit(X_train, y_train)\n",
    "    cv_scores = cross_val_score(model, X_train, y_train, cv=cv)\n",
    "    print(cv_scores)\n",
    "    cv_score = np.mean(cross_val_score(model, X_train, y_train, cv=cv))\n",
    "    training_score = model.score(X_train, y_train)\n",
    "    test_score = model.score(X_test, y_test)\n",
    "    return 'Mean cv score = {}, training score = {}, test score = {}.'.format(cv_score, training_score, test_score)"
   ]
  },
  {
   "cell_type": "code",
   "execution_count": 257,
   "metadata": {},
   "outputs": [
    {
     "data": {
      "text/html": [
       "<div>\n",
       "<style scoped>\n",
       "    .dataframe tbody tr th:only-of-type {\n",
       "        vertical-align: middle;\n",
       "    }\n",
       "\n",
       "    .dataframe tbody tr th {\n",
       "        vertical-align: top;\n",
       "    }\n",
       "\n",
       "    .dataframe thead th {\n",
       "        text-align: right;\n",
       "    }\n",
       "</style>\n",
       "<table border=\"1\" class=\"dataframe\">\n",
       "  <thead>\n",
       "    <tr style=\"text-align: right;\">\n",
       "      <th></th>\n",
       "      <th>job_title</th>\n",
       "      <th>company_name</th>\n",
       "      <th>company_location</th>\n",
       "      <th>salary</th>\n",
       "      <th>job_snippet</th>\n",
       "      <th>country_location</th>\n",
       "      <th>salary_class</th>\n",
       "    </tr>\n",
       "  </thead>\n",
       "  <tbody>\n",
       "    <tr>\n",
       "      <th>0</th>\n",
       "      <td>newEcologist/Data Scientist</td>\n",
       "      <td>Department of Agriculture &amp; Water Resources</td>\n",
       "      <td>Darwin NT</td>\n",
       "      <td>62838.6</td>\n",
       "      <td>Experience developing AI/deep learning workflo...</td>\n",
       "      <td>AU</td>\n",
       "      <td>1</td>\n",
       "    </tr>\n",
       "    <tr>\n",
       "      <th>1</th>\n",
       "      <td>newEcologist/Data Scientist</td>\n",
       "      <td>Australian Department of the Environment</td>\n",
       "      <td>Darwin NT</td>\n",
       "      <td>62838.6</td>\n",
       "      <td>Experience developing AI/deep learning workflo...</td>\n",
       "      <td>AU</td>\n",
       "      <td>1</td>\n",
       "    </tr>\n",
       "    <tr>\n",
       "      <th>2</th>\n",
       "      <td>newData Scientist</td>\n",
       "      <td>The Staffing Group</td>\n",
       "      <td>Sydney NSW+1 location</td>\n",
       "      <td>63250.0</td>\n",
       "      <td>A strong background in data science, analytics...</td>\n",
       "      <td>AU</td>\n",
       "      <td>1</td>\n",
       "    </tr>\n",
       "    <tr>\n",
       "      <th>3</th>\n",
       "      <td>newData Professional - Data Analyst/Scientist ...</td>\n",
       "      <td>The Staffing Group</td>\n",
       "      <td>Melbourne VIC+1 location</td>\n",
       "      <td>52250.0</td>\n",
       "      <td>We are looking for a data analyst/scientist wh...</td>\n",
       "      <td>AU</td>\n",
       "      <td>0</td>\n",
       "    </tr>\n",
       "    <tr>\n",
       "      <th>4</th>\n",
       "      <td>Junior Machine Learning Engineer</td>\n",
       "      <td>XY Sense</td>\n",
       "      <td>Melbourne VIC</td>\n",
       "      <td>44000.0</td>\n",
       "      <td>Reporting directly to the CTO with technical l...</td>\n",
       "      <td>AU</td>\n",
       "      <td>0</td>\n",
       "    </tr>\n",
       "    <tr>\n",
       "      <th>...</th>\n",
       "      <td>...</td>\n",
       "      <td>...</td>\n",
       "      <td>...</td>\n",
       "      <td>...</td>\n",
       "      <td>...</td>\n",
       "      <td>...</td>\n",
       "      <td>...</td>\n",
       "    </tr>\n",
       "    <tr>\n",
       "      <th>913</th>\n",
       "      <td>Data Scientist - Nationwide Opportunities</td>\n",
       "      <td>Amazon Web Services, Inc.</td>\n",
       "      <td>Houston, TX</td>\n",
       "      <td>84878.0</td>\n",
       "      <td>Experience in an ML engineer or data scientist...</td>\n",
       "      <td>US</td>\n",
       "      <td>1</td>\n",
       "    </tr>\n",
       "    <tr>\n",
       "      <th>914</th>\n",
       "      <td>Senior Data Engineer</td>\n",
       "      <td>Xecta</td>\n",
       "      <td>Houston, TX</td>\n",
       "      <td>92500.0</td>\n",
       "      <td>The data engineer will support our software de...</td>\n",
       "      <td>US</td>\n",
       "      <td>1</td>\n",
       "    </tr>\n",
       "    <tr>\n",
       "      <th>915</th>\n",
       "      <td>Natural Language Programming Specialist</td>\n",
       "      <td>Statistical Vision</td>\n",
       "      <td>Houston, TX 77043 (Spring Branch West area)•Te...</td>\n",
       "      <td>59200.0</td>\n",
       "      <td>Conduct sentiment analysis and other text clas...</td>\n",
       "      <td>US</td>\n",
       "      <td>1</td>\n",
       "    </tr>\n",
       "    <tr>\n",
       "      <th>916</th>\n",
       "      <td>Data Scientist</td>\n",
       "      <td>WALT Labs</td>\n",
       "      <td>Spring, TX</td>\n",
       "      <td>59940.0</td>\n",
       "      <td>Present information using data visualization t...</td>\n",
       "      <td>US</td>\n",
       "      <td>1</td>\n",
       "    </tr>\n",
       "    <tr>\n",
       "      <th>917</th>\n",
       "      <td>Natural Language Programming Specialist</td>\n",
       "      <td>Statistical Vision</td>\n",
       "      <td>Houston, TX 77043 (Spring Branch West area)•Te...</td>\n",
       "      <td>59200.0</td>\n",
       "      <td>Conduct sentiment analysis and other text clas...</td>\n",
       "      <td>US</td>\n",
       "      <td>1</td>\n",
       "    </tr>\n",
       "  </tbody>\n",
       "</table>\n",
       "<p>918 rows × 7 columns</p>\n",
       "</div>"
      ],
      "text/plain": [
       "                                             job_title  \\\n",
       "0                          newEcologist/Data Scientist   \n",
       "1                          newEcologist/Data Scientist   \n",
       "2                                    newData Scientist   \n",
       "3    newData Professional - Data Analyst/Scientist ...   \n",
       "4                     Junior Machine Learning Engineer   \n",
       "..                                                 ...   \n",
       "913          Data Scientist - Nationwide Opportunities   \n",
       "914                               Senior Data Engineer   \n",
       "915            Natural Language Programming Specialist   \n",
       "916                                     Data Scientist   \n",
       "917            Natural Language Programming Specialist   \n",
       "\n",
       "                                    company_name  \\\n",
       "0    Department of Agriculture & Water Resources   \n",
       "1       Australian Department of the Environment   \n",
       "2                             The Staffing Group   \n",
       "3                             The Staffing Group   \n",
       "4                                       XY Sense   \n",
       "..                                           ...   \n",
       "913                    Amazon Web Services, Inc.   \n",
       "914                                        Xecta   \n",
       "915                           Statistical Vision   \n",
       "916                                    WALT Labs   \n",
       "917                           Statistical Vision   \n",
       "\n",
       "                                      company_location   salary  \\\n",
       "0                                            Darwin NT  62838.6   \n",
       "1                                            Darwin NT  62838.6   \n",
       "2                                Sydney NSW+1 location  63250.0   \n",
       "3                             Melbourne VIC+1 location  52250.0   \n",
       "4                                        Melbourne VIC  44000.0   \n",
       "..                                                 ...      ...   \n",
       "913                                        Houston, TX  84878.0   \n",
       "914                                        Houston, TX  92500.0   \n",
       "915  Houston, TX 77043 (Spring Branch West area)•Te...  59200.0   \n",
       "916                                         Spring, TX  59940.0   \n",
       "917  Houston, TX 77043 (Spring Branch West area)•Te...  59200.0   \n",
       "\n",
       "                                           job_snippet country_location  \\\n",
       "0    Experience developing AI/deep learning workflo...               AU   \n",
       "1    Experience developing AI/deep learning workflo...               AU   \n",
       "2    A strong background in data science, analytics...               AU   \n",
       "3    We are looking for a data analyst/scientist wh...               AU   \n",
       "4    Reporting directly to the CTO with technical l...               AU   \n",
       "..                                                 ...              ...   \n",
       "913  Experience in an ML engineer or data scientist...               US   \n",
       "914  The data engineer will support our software de...               US   \n",
       "915  Conduct sentiment analysis and other text clas...               US   \n",
       "916  Present information using data visualization t...               US   \n",
       "917  Conduct sentiment analysis and other text clas...               US   \n",
       "\n",
       "     salary_class  \n",
       "0               1  \n",
       "1               1  \n",
       "2               1  \n",
       "3               0  \n",
       "4               0  \n",
       "..            ...  \n",
       "913             1  \n",
       "914             1  \n",
       "915             1  \n",
       "916             1  \n",
       "917             1  \n",
       "\n",
       "[918 rows x 7 columns]"
      ]
     },
     "execution_count": 257,
     "metadata": {},
     "output_type": "execute_result"
    }
   ],
   "source": [
    "jobs.reset_index(drop=True)"
   ]
  },
  {
   "cell_type": "code",
   "execution_count": 258,
   "metadata": {},
   "outputs": [],
   "source": [
    "# Set up feature and get dummies \n",
    "\n",
    "x = jobs[['country_location']]\n",
    "x_dum = pd.get_dummies(x, drop_first=True)"
   ]
  },
  {
   "cell_type": "code",
   "execution_count": 259,
   "metadata": {},
   "outputs": [],
   "source": [
    "# Set up target\n",
    "\n",
    "y = jobs['salary_class']"
   ]
  },
  {
   "cell_type": "code",
   "execution_count": 260,
   "metadata": {},
   "outputs": [],
   "source": [
    "# Train test split \n",
    "\n",
    "x_train, x_test, y_train, y_test = train_test_split(x_dum, y,\n",
    "                        stratify=y, test_size=0.2, random_state=91)\n"
   ]
  },
  {
   "cell_type": "code",
   "execution_count": 261,
   "metadata": {},
   "outputs": [],
   "source": [
    "# Standardise feature\n",
    "\n",
    "scaler = StandardScaler()\n",
    "\n",
    "x_train_std = pd.DataFrame(scaler.fit_transform(x_train), \n",
    "                       columns=x_train.columns)\n",
    "\n",
    "x_test_std = pd.DataFrame(scaler.transform(x_test), \n",
    "                      columns=x_train.columns)"
   ]
  },
  {
   "cell_type": "code",
   "execution_count": 262,
   "metadata": {},
   "outputs": [
    {
     "name": "stdout",
     "output_type": "stream",
     "text": [
      "KNeighborsClassifier()\n",
      "[0.80272109 0.70748299 0.80272109 0.72789116 0.71232877]\n",
      "Mean cv score = 0.7506290187307799, training score = 0.7520435967302452, test score = 0.6902173913043478.\n",
      "LogisticRegression(max_iter=1000)\n",
      "[0.79591837 0.70748299 0.81632653 0.70748299 0.71232877]\n",
      "Mean cv score = 0.7479079302954059, training score = 0.7520435967302452, test score = 0.6902173913043478.\n",
      "DecisionTreeClassifier()\n",
      "[0.79591837 0.70748299 0.80272109 0.70748299 0.71232877]\n",
      "Mean cv score = 0.7451868418600316, training score = 0.7520435967302452, test score = 0.6902173913043478.\n",
      "RandomForestClassifier()\n",
      "[0.79591837 0.70748299 0.80272109 0.70748299 0.71232877]\n",
      "Mean cv score = 0.7479079302954059, training score = 0.7520435967302452, test score = 0.6902173913043478.\n",
      "ExtraTreesClassifier()\n",
      "[0.79591837 0.70748299 0.80272109 0.70748299 0.71232877]\n",
      "Mean cv score = 0.7451868418600316, training score = 0.7520435967302452, test score = 0.6902173913043478.\n"
     ]
    }
   ],
   "source": [
    "# The loop below goes through all the given models and prints the model and the model fitter scores for each. \n",
    "# This is to check the initial viability of a number of models to choose the most appropriate. \n",
    "\n",
    "models = [KNeighborsClassifier(),\n",
    "          LogisticRegression(solver='lbfgs', max_iter=1000),\n",
    "          DecisionTreeClassifier(),\n",
    "          RandomForestClassifier(n_estimators=100),\n",
    "          ExtraTreesClassifier(n_estimators=100)]\n",
    "\n",
    "for model in models:\n",
    "    print(model)\n",
    "    print(model_fitter(model, x_train_std, y_train, x_test_std, y_test))"
   ]
  },
  {
   "cell_type": "markdown",
   "metadata": {},
   "source": [
    "### Analysis: \n",
    "The two models with the best preliminary score are the K Neighbours Classifier and the Logistic Regression Classifier, hence I have chosen these two models to investigate further below. "
   ]
  },
  {
   "cell_type": "markdown",
   "metadata": {},
   "source": [
    "## Logistic Regression"
   ]
  },
  {
   "cell_type": "code",
   "execution_count": 263,
   "metadata": {},
   "outputs": [
    {
     "name": "stdout",
     "output_type": "stream",
     "text": [
      "[0.79591837 0.70748299 0.81632653 0.70748299 0.71232877]\n"
     ]
    },
    {
     "data": {
      "text/plain": [
       "'Mean cv score = 0.7479079302954059, training score = 0.7520435967302452, test score = 0.6902173913043478.'"
      ]
     },
     "execution_count": 263,
     "metadata": {},
     "output_type": "execute_result"
    }
   ],
   "source": [
    "# Basic linear regression (different penalties give the same results due to 1 feature so only default penalty analysed)\n",
    "\n",
    "LRmodel = LogisticRegression()\n",
    "model_fitter(LRmodel, x_train_std, y_train, x_test_std, y_test)"
   ]
  },
  {
   "cell_type": "markdown",
   "metadata": {},
   "source": [
    "### Linear regression model analysis\n",
    "\n",
    "The mean CV score is well above the 50% baseline and the mean CV and training scores are close together, lending weight to the model. However the test score is lower than the mean CV and training scores suggesting the model not generalise well. "
   ]
  },
  {
   "cell_type": "code",
   "execution_count": 264,
   "metadata": {},
   "outputs": [
    {
     "data": {
      "text/plain": [
       "array([-0.39760567, -0.14676149, -1.09407978,  0.16739695])"
      ]
     },
     "execution_count": 264,
     "metadata": {},
     "output_type": "execute_result"
    }
   ],
   "source": [
    "LRmodel.coef_[0]"
   ]
  },
  {
   "cell_type": "code",
   "execution_count": 265,
   "metadata": {},
   "outputs": [
    {
     "data": {
      "text/plain": [
       "Index(['country_location_CA', 'country_location_IE', 'country_location_UK',\n",
       "       'country_location_US'],\n",
       "      dtype='object')"
      ]
     },
     "execution_count": 265,
     "metadata": {},
     "output_type": "execute_result"
    }
   ],
   "source": [
    "x_train_std.columns"
   ]
  },
  {
   "cell_type": "code",
   "execution_count": 266,
   "metadata": {},
   "outputs": [
    {
     "data": {
      "text/html": [
       "<div>\n",
       "<style scoped>\n",
       "    .dataframe tbody tr th:only-of-type {\n",
       "        vertical-align: middle;\n",
       "    }\n",
       "\n",
       "    .dataframe tbody tr th {\n",
       "        vertical-align: top;\n",
       "    }\n",
       "\n",
       "    .dataframe thead th {\n",
       "        text-align: right;\n",
       "    }\n",
       "</style>\n",
       "<table border=\"1\" class=\"dataframe\">\n",
       "  <thead>\n",
       "    <tr style=\"text-align: right;\">\n",
       "      <th></th>\n",
       "      <th>Country_Location</th>\n",
       "      <th>Coefficient</th>\n",
       "    </tr>\n",
       "  </thead>\n",
       "  <tbody>\n",
       "    <tr>\n",
       "      <th>3</th>\n",
       "      <td>country_location_US</td>\n",
       "      <td>0.167397</td>\n",
       "    </tr>\n",
       "    <tr>\n",
       "      <th>1</th>\n",
       "      <td>country_location_IE</td>\n",
       "      <td>-0.146761</td>\n",
       "    </tr>\n",
       "    <tr>\n",
       "      <th>0</th>\n",
       "      <td>country_location_CA</td>\n",
       "      <td>-0.397606</td>\n",
       "    </tr>\n",
       "    <tr>\n",
       "      <th>2</th>\n",
       "      <td>country_location_UK</td>\n",
       "      <td>-1.094080</td>\n",
       "    </tr>\n",
       "  </tbody>\n",
       "</table>\n",
       "</div>"
      ],
      "text/plain": [
       "      Country_Location  Coefficient\n",
       "3  country_location_US     0.167397\n",
       "1  country_location_IE    -0.146761\n",
       "0  country_location_CA    -0.397606\n",
       "2  country_location_UK    -1.094080"
      ]
     },
     "execution_count": 266,
     "metadata": {},
     "output_type": "execute_result"
    }
   ],
   "source": [
    "LRmodel_coef = pd.DataFrame(list(zip(x_train_std.columns, LRmodel.coef_[0])), \n",
    "                           columns=['Country_Location', 'Coefficient']).sort_values(by='Coefficient', ascending=False )\n",
    "LRmodel_coef"
   ]
  },
  {
   "cell_type": "code",
   "execution_count": 267,
   "metadata": {},
   "outputs": [
    {
     "data": {
      "image/png": "[encoded data removed]",
      "text/plain": [
       "<Figure size 288x288 with 1 Axes>"
      ]
     },
     "metadata": {
      "needs_background": "light"
     },
     "output_type": "display_data"
    }
   ],
   "source": [
    "LRmodel_coef.plot(kind='barh', x='Country_Location', y='Coefficient', figsize=(4, 4));"
   ]
  },
  {
   "cell_type": "markdown",
   "metadata": {},
   "source": [
    "### Analysis of logistic regression coefficients\n",
    "\n",
    "The first features here is country_location_UK, the binary column for this dummified feature determines whether or not a job is in the US not in the US etc. The positive outcomes class for this classification problem is 'HIGH' salary, which has been given a label of 1.\n",
    "\n",
    "The negative coefficient of country_location_uk means that all else being equal UK jobs are more likely to have a low Salary. The postitive coefficient of country_location_us means that all else being equal US jobs are more likely to have a high salary. \n",
    "\n",
    "We can compare the size of the coefficients by magnitude. For example the rounded coefficient of country_location_CA is -0.4 and for country_location_ie -0.15, this means the effect of the job being in Canada in negatively predicting the positive class is more than twice as big as the effect of the job being in Ireland predicting against a high salary. "
   ]
  },
  {
   "cell_type": "code",
   "execution_count": 268,
   "metadata": {},
   "outputs": [
    {
     "data": {
      "image/png": "[encoded data removed]",
      "text/plain": [
       "<Figure size 432x288 with 2 Axes>"
      ]
     },
     "metadata": {
      "needs_background": "light"
     },
     "output_type": "display_data"
    }
   ],
   "source": [
    "from sklearn.metrics import plot_confusion_matrix, plot_roc_curve\n",
    "import matplotlib.pyplot as plt\n",
    "\n",
    "plot_confusion_matrix(LRmodel, x_train_std, y_train, cmap=plt.cm.Blues)\n",
    "plt.grid(False)\n",
    "plt.show()"
   ]
  },
  {
   "cell_type": "markdown",
   "metadata": {},
   "source": [
    "## K Nearest Neighbors Classifier"
   ]
  },
  {
   "cell_type": "code",
   "execution_count": 274,
   "metadata": {},
   "outputs": [
    {
     "name": "stdout",
     "output_type": "stream",
     "text": [
      "Fitting 5 folds for each of 98 candidates, totalling 490 fits\n"
     ]
    }
   ],
   "source": [
    "# Get the best KNN model using a gridsearch\n",
    "\n",
    "grid_params = {\n",
    "    'n_neighbors': [x for x in range(1,50)],\n",
    "    'weights': ['uniform','distance'],\n",
    "    'metric' : ['manhattan']\n",
    "}\n",
    "# Really does not like Euclidian for some reason! \n",
    "\n",
    "gs = GridSearchCV(\n",
    "        KNeighborsClassifier(),\n",
    "        grid_params,\n",
    "        verbose=1,\n",
    "        cv = 5)\n",
    "\n",
    "gs_results = gs.fit(x_train_std, y_train)"
   ]
  },
  {
   "cell_type": "code",
   "execution_count": 275,
   "metadata": {},
   "outputs": [
    {
     "data": {
      "text/plain": [
       "{'metric': 'manhattan', 'n_neighbors': 13, 'weights': 'uniform'}"
      ]
     },
     "execution_count": 275,
     "metadata": {},
     "output_type": "execute_result"
    }
   ],
   "source": [
    "gs_results.best_params_"
   ]
  },
  {
   "cell_type": "code",
   "execution_count": 276,
   "metadata": {},
   "outputs": [
    {
     "data": {
      "text/plain": [
       "0.7519895629484671"
      ]
     },
     "execution_count": 276,
     "metadata": {},
     "output_type": "execute_result"
    }
   ],
   "source": [
    "gs.best_score_"
   ]
  },
  {
   "cell_type": "code",
   "execution_count": 277,
   "metadata": {},
   "outputs": [],
   "source": [
    "best_knn = KNeighborsClassifier(n_neighbors=13, weights ='uniform', metric='manhattan')"
   ]
  },
  {
   "cell_type": "code",
   "execution_count": 278,
   "metadata": {},
   "outputs": [
    {
     "name": "stdout",
     "output_type": "stream",
     "text": [
      "[0.79591837 0.70748299 0.81632653 0.72789116 0.71232877]\n"
     ]
    },
    {
     "data": {
      "text/plain": [
       "'Mean cv score = 0.7519895629484671, training score = 0.7520435967302452, test score = 0.6902173913043478.'"
      ]
     },
     "execution_count": 278,
     "metadata": {},
     "output_type": "execute_result"
    }
   ],
   "source": [
    "# Scores for the best KNN model \n",
    "\n",
    "model_fitter(best_knn, x_train_std, y_train, x_test_std, y_test)"
   ]
  },
  {
   "cell_type": "markdown",
   "metadata": {},
   "source": [
    "## KNN Model evaluation\n",
    "\n",
    "The KNN model gives as score around 74% which is 24% above the baseline for predicting whether a salary is low or high. The Mean CV score and training Score are very close lending weight to the model, but the test score is slightly lower meaning the model may not generalise well. As KNN is a non-parametric model there are no coefficients to interpret. "
   ]
  },
  {
   "cell_type": "markdown",
   "metadata": {},
   "source": [
    "## Adding more features to the model "
   ]
  },
  {
   "cell_type": "code",
   "execution_count": 279,
   "metadata": {},
   "outputs": [
    {
     "data": {
      "text/plain": [
       "scientist       317\n",
       "other           205\n",
       "engineer        176\n",
       "analyst         140\n",
       "developer        52\n",
       "academic         14\n",
       "statistician     11\n",
       "NLP               3\n",
       "Name: job_class, dtype: int64"
      ]
     },
     "execution_count": 279,
     "metadata": {},
     "output_type": "execute_result"
    }
   ],
   "source": [
    "# The loop below looks through each entry in the job title column of the dataframe and checks for keywords in order\n",
    "# to classify the type of job advertised. Some of the jobs had more than one of the keywords (eg Scientist / Engineer)\n",
    "# hence the loop is written in order of priority. \n",
    "\n",
    "job_class = []\n",
    "\n",
    "for i in jobs.job_title:\n",
    "        if 'scientist' in i.lower():\n",
    "            job_class.append('scientist')\n",
    "        elif 'engineer' in i.lower():\n",
    "            job_class.append('engineer')\n",
    "        elif 'analy'in i.lower():\n",
    "            job_class.append('analyst')\n",
    "        elif 'lecturer' in i.lower() or 'fellow' in i.lower():\n",
    "            job_class.append('academic')\n",
    "        elif 'statistic' in i.lower():\n",
    "            job_class.append('statistician')\n",
    "        elif 'developer' in i.lower():\n",
    "            job_class.append('developer')\n",
    "        elif 'natural language' in i.lower() or 'nlp' in i.lower():\n",
    "            job_class.append('NLP')\n",
    "        else:\n",
    "            job_class.append('other')\n",
    "        \n",
    "\n",
    "jobs['job_class'] = job_class\n",
    "\n",
    "jobs.job_class.value_counts()"
   ]
  },
  {
   "cell_type": "code",
   "execution_count": 280,
   "metadata": {},
   "outputs": [
    {
     "data": {
      "text/plain": [
       "other     670\n",
       "Senior    235\n",
       "Junior     11\n",
       "Mid         2\n",
       "Name: job_level, dtype: int64"
      ]
     },
     "execution_count": 280,
     "metadata": {},
     "output_type": "execute_result"
    }
   ],
   "source": [
    "# The loop below looks through each entry in the job title column of the dataframe and checks for keywords in order\n",
    "# to classify the level of job advertised. Some of the jobs had more than one of the keywords (eg Junior / Mid)\n",
    "# hence the loop is written in order of priority. \n",
    "\n",
    "job_level = []\n",
    "\n",
    "for i in jobs.job_title:\n",
    "    if 'senior' in i.lower() or 'snr' in i.lower() or 'lead' in i.lower() or 'principal' in i.lower():\n",
    "        job_level.append('Senior')\n",
    "    elif 'junior' in i.lower() or 'jnr' in i.lower():\n",
    "        job_level.append('Junior')\n",
    "    elif 'mid' in i.lower():\n",
    "        job_level.append('Mid')\n",
    "    else:\n",
    "        job_level.append('other')\n",
    "    \n",
    "jobs['job_level'] = job_level \n",
    "\n",
    "jobs.job_level.value_counts()"
   ]
  },
  {
   "cell_type": "code",
   "execution_count": 281,
   "metadata": {},
   "outputs": [
    {
     "data": {
      "text/html": [
       "<div>\n",
       "<style scoped>\n",
       "    .dataframe tbody tr th:only-of-type {\n",
       "        vertical-align: middle;\n",
       "    }\n",
       "\n",
       "    .dataframe tbody tr th {\n",
       "        vertical-align: top;\n",
       "    }\n",
       "\n",
       "    .dataframe thead th {\n",
       "        text-align: right;\n",
       "    }\n",
       "</style>\n",
       "<table border=\"1\" class=\"dataframe\">\n",
       "  <thead>\n",
       "    <tr style=\"text-align: right;\">\n",
       "      <th></th>\n",
       "      <th>job_title</th>\n",
       "      <th>company_name</th>\n",
       "      <th>company_location</th>\n",
       "      <th>salary</th>\n",
       "      <th>job_snippet</th>\n",
       "      <th>country_location</th>\n",
       "      <th>salary_class</th>\n",
       "      <th>job_class</th>\n",
       "      <th>job_level</th>\n",
       "    </tr>\n",
       "  </thead>\n",
       "  <tbody>\n",
       "    <tr>\n",
       "      <th>0</th>\n",
       "      <td>newEcologist/Data Scientist</td>\n",
       "      <td>Department of Agriculture &amp; Water Resources</td>\n",
       "      <td>Darwin NT</td>\n",
       "      <td>62838.6</td>\n",
       "      <td>Experience developing AI/deep learning workflo...</td>\n",
       "      <td>AU</td>\n",
       "      <td>1</td>\n",
       "      <td>scientist</td>\n",
       "      <td>other</td>\n",
       "    </tr>\n",
       "    <tr>\n",
       "      <th>1</th>\n",
       "      <td>newEcologist/Data Scientist</td>\n",
       "      <td>Australian Department of the Environment</td>\n",
       "      <td>Darwin NT</td>\n",
       "      <td>62838.6</td>\n",
       "      <td>Experience developing AI/deep learning workflo...</td>\n",
       "      <td>AU</td>\n",
       "      <td>1</td>\n",
       "      <td>scientist</td>\n",
       "      <td>other</td>\n",
       "    </tr>\n",
       "    <tr>\n",
       "      <th>2</th>\n",
       "      <td>newData Scientist</td>\n",
       "      <td>The Staffing Group</td>\n",
       "      <td>Sydney NSW+1 location</td>\n",
       "      <td>63250.0</td>\n",
       "      <td>A strong background in data science, analytics...</td>\n",
       "      <td>AU</td>\n",
       "      <td>1</td>\n",
       "      <td>scientist</td>\n",
       "      <td>other</td>\n",
       "    </tr>\n",
       "    <tr>\n",
       "      <th>3</th>\n",
       "      <td>newData Professional - Data Analyst/Scientist ...</td>\n",
       "      <td>The Staffing Group</td>\n",
       "      <td>Melbourne VIC+1 location</td>\n",
       "      <td>52250.0</td>\n",
       "      <td>We are looking for a data analyst/scientist wh...</td>\n",
       "      <td>AU</td>\n",
       "      <td>0</td>\n",
       "      <td>scientist</td>\n",
       "      <td>other</td>\n",
       "    </tr>\n",
       "    <tr>\n",
       "      <th>4</th>\n",
       "      <td>Junior Machine Learning Engineer</td>\n",
       "      <td>XY Sense</td>\n",
       "      <td>Melbourne VIC</td>\n",
       "      <td>44000.0</td>\n",
       "      <td>Reporting directly to the CTO with technical l...</td>\n",
       "      <td>AU</td>\n",
       "      <td>0</td>\n",
       "      <td>engineer</td>\n",
       "      <td>Junior</td>\n",
       "    </tr>\n",
       "  </tbody>\n",
       "</table>\n",
       "</div>"
      ],
      "text/plain": [
       "                                           job_title  \\\n",
       "0                        newEcologist/Data Scientist   \n",
       "1                        newEcologist/Data Scientist   \n",
       "2                                  newData Scientist   \n",
       "3  newData Professional - Data Analyst/Scientist ...   \n",
       "4                   Junior Machine Learning Engineer   \n",
       "\n",
       "                                  company_name          company_location  \\\n",
       "0  Department of Agriculture & Water Resources                 Darwin NT   \n",
       "1     Australian Department of the Environment                 Darwin NT   \n",
       "2                           The Staffing Group     Sydney NSW+1 location   \n",
       "3                           The Staffing Group  Melbourne VIC+1 location   \n",
       "4                                     XY Sense             Melbourne VIC   \n",
       "\n",
       "    salary                                        job_snippet  \\\n",
       "0  62838.6  Experience developing AI/deep learning workflo...   \n",
       "1  62838.6  Experience developing AI/deep learning workflo...   \n",
       "2  63250.0  A strong background in data science, analytics...   \n",
       "3  52250.0  We are looking for a data analyst/scientist wh...   \n",
       "4  44000.0  Reporting directly to the CTO with technical l...   \n",
       "\n",
       "  country_location  salary_class  job_class job_level  \n",
       "0               AU             1  scientist     other  \n",
       "1               AU             1  scientist     other  \n",
       "2               AU             1  scientist     other  \n",
       "3               AU             0  scientist     other  \n",
       "4               AU             0   engineer    Junior  "
      ]
     },
     "execution_count": 281,
     "metadata": {},
     "output_type": "execute_result"
    }
   ],
   "source": [
    "jobs.head(5)"
   ]
  },
  {
   "cell_type": "code",
   "execution_count": 282,
   "metadata": {},
   "outputs": [],
   "source": [
    "x2 = jobs[['country_location','job_class','job_level']]\n",
    "x2_dum = pd.get_dummies(x2, drop_first=True)\n",
    "y = jobs['salary_class']"
   ]
  },
  {
   "cell_type": "code",
   "execution_count": 283,
   "metadata": {},
   "outputs": [],
   "source": [
    "x2_train, x2_test, y_train, y_test = train_test_split(x2_dum, y,\n",
    "                        stratify=y, test_size=0.2, random_state=102)"
   ]
  },
  {
   "cell_type": "code",
   "execution_count": 284,
   "metadata": {},
   "outputs": [],
   "source": [
    "scaler = StandardScaler()\n",
    "\n",
    "x2_train_std = pd.DataFrame(scaler.fit_transform(x2_train), \n",
    "                       columns=x2_train.columns)\n",
    "\n",
    "x2_test_std = pd.DataFrame(scaler.transform(x2_test), \n",
    "                      columns=x2_train.columns)"
   ]
  },
  {
   "cell_type": "code",
   "execution_count": 286,
   "metadata": {},
   "outputs": [
    {
     "name": "stdout",
     "output_type": "stream",
     "text": [
      "KNeighborsClassifier()\n",
      "[0.76190476 0.73469388 0.74829932 0.70748299 0.68493151]\n",
      "Mean cv score = 0.7274624918460535, training score = 0.7425068119891008, test score = 0.7065217391304348.\n",
      "LogisticRegression(max_iter=1000)\n",
      "[0.78911565 0.74829932 0.80272109 0.75510204 0.71917808]\n",
      "Mean cv score = 0.7628832354859751, training score = 0.7724795640326976, test score = 0.7717391304347826.\n",
      "DecisionTreeClassifier()\n",
      "[0.78231293 0.73469388 0.80952381 0.74829932 0.74657534]\n",
      "Mean cv score = 0.7656415991053955, training score = 0.779291553133515, test score = 0.7391304347826086.\n",
      "RandomForestClassifier()\n",
      "[0.78911565 0.73469388 0.79591837 0.71428571 0.71917808]\n",
      "Mean cv score = 0.7547292889758642, training score = 0.779291553133515, test score = 0.75.\n",
      "ExtraTreesClassifier()\n",
      "[0.78911565 0.73469388 0.78911565 0.75510204 0.73972603]\n",
      "Mean cv score = 0.7615506476563227, training score = 0.779291553133515, test score = 0.7391304347826086.\n"
     ]
    }
   ],
   "source": [
    "models = [KNeighborsClassifier(),\n",
    "          LogisticRegression(solver='lbfgs', max_iter=1000),\n",
    "          DecisionTreeClassifier(),\n",
    "          RandomForestClassifier(n_estimators=100),\n",
    "          ExtraTreesClassifier(n_estimators=100)]\n",
    "\n",
    "for model in models:\n",
    "    print(model)\n",
    "    print(model_fitter(model, x2_train_std, y_train, x2_test_std, y_test))"
   ]
  },
  {
   "cell_type": "markdown",
   "metadata": {},
   "source": [
    "## Choosing a model\n",
    "The output above shows the scores for different models. Again logistic regression comes out with the best mean CV score, the next highest being the Decision Tree Classifier. These models are investigated further below. "
   ]
  },
  {
   "cell_type": "markdown",
   "metadata": {},
   "source": [
    "### Logistic Regression model "
   ]
  },
  {
   "cell_type": "code",
   "execution_count": 288,
   "metadata": {},
   "outputs": [],
   "source": [
    "# Look for the best logistic regression model \n",
    "\n",
    "gs_params = {'penalty': ['l1','l2'],\n",
    "              'solver': ['liblinear'],\n",
    "              'C': np.logspace(-3, 0, 100)}"
   ]
  },
  {
   "cell_type": "code",
   "execution_count": 289,
   "metadata": {},
   "outputs": [
    {
     "data": {
      "text/plain": [
       "GridSearchCV(cv=5, estimator=LogisticRegression(), n_jobs=2,\n",
       "             param_grid={'C': array([0.001     , 0.00107227, 0.00114976, 0.00123285, 0.00132194,\n",
       "       0.00141747, 0.00151991, 0.00162975, 0.00174753, 0.00187382,\n",
       "       0.00200923, 0.00215443, 0.00231013, 0.00247708, 0.00265609,\n",
       "       0.00284804, 0.00305386, 0.00327455, 0.00351119, 0.00376494,\n",
       "       0.00403702, 0.00432876, 0.00464159, 0.00497702, 0.0053367 ,...\n",
       "       0.13219411, 0.14174742, 0.15199111, 0.16297508, 0.17475284,\n",
       "       0.18738174, 0.2009233 , 0.21544347, 0.23101297, 0.24770764,\n",
       "       0.26560878, 0.28480359, 0.30538555, 0.32745492, 0.35111917,\n",
       "       0.37649358, 0.40370173, 0.43287613, 0.46415888, 0.49770236,\n",
       "       0.53366992, 0.57223677, 0.61359073, 0.65793322, 0.70548023,\n",
       "       0.75646333, 0.81113083, 0.869749  , 0.93260335, 1.        ]),\n",
       "                         'penalty': ['l1', 'l2'], 'solver': ['liblinear']})"
      ]
     },
     "execution_count": 289,
     "metadata": {},
     "output_type": "execute_result"
    }
   ],
   "source": [
    "# create a gridsearch object using LogisticRegression() and the dictionary you created above\n",
    "lr2 = LogisticRegression()\n",
    "\n",
    "lr2_gridsearch = GridSearchCV(lr2,\n",
    "                             gs_params,\n",
    "                             n_jobs=2, \n",
    "                             cv=5)\n",
    "\n",
    "lr2_gridsearch.fit(x2_train_std, y_train)\n"
   ]
  },
  {
   "cell_type": "code",
   "execution_count": 290,
   "metadata": {},
   "outputs": [
    {
     "data": {
      "text/plain": [
       "0.7656229615133726"
      ]
     },
     "execution_count": 290,
     "metadata": {},
     "output_type": "execute_result"
    }
   ],
   "source": [
    "lr2_gridsearch.best_score_"
   ]
  },
  {
   "cell_type": "code",
   "execution_count": 291,
   "metadata": {},
   "outputs": [
    {
     "data": {
      "text/plain": [
       "{'C': 0.23101297000831605, 'penalty': 'l1', 'solver': 'liblinear'}"
      ]
     },
     "execution_count": 291,
     "metadata": {},
     "output_type": "execute_result"
    }
   ],
   "source": [
    "lr2_gridsearch.best_params_"
   ]
  },
  {
   "cell_type": "code",
   "execution_count": 292,
   "metadata": {},
   "outputs": [
    {
     "name": "stdout",
     "output_type": "stream",
     "text": [
      "[0.78911565 0.7414966  0.79591837 0.76870748 0.73287671]\n"
     ]
    },
    {
     "data": {
      "text/plain": [
       "'Mean cv score = 0.7656229615133726, training score = 0.7697547683923706, test score = 0.7717391304347826.'"
      ]
     },
     "execution_count": 292,
     "metadata": {},
     "output_type": "execute_result"
    }
   ],
   "source": [
    "best_lr = LogisticRegression(penalty='l1', solver='liblinear', C=0.23101297000831605)\n",
    "model_fitter(best_lr, x2_train_std, y_train, x2_test_std, y_test )"
   ]
  },
  {
   "cell_type": "code",
   "execution_count": 297,
   "metadata": {},
   "outputs": [],
   "source": [
    "best_lr_coef = pd.DataFrame(list(zip(x2_train_std.columns, best_lr.coef_[0])), \n",
    "                           columns=['Feature','Coefficient']).sort_values(by='Coefficient', ascending=False )\n",
    "coef = best_lr_coef[best_lr_coef['Coefficient'] != 0]"
   ]
  },
  {
   "cell_type": "code",
   "execution_count": 298,
   "metadata": {},
   "outputs": [
    {
     "data": {
      "image/png": "[encoded data removed]",
      "text/plain": [
       "<Figure size 288x288 with 1 Axes>"
      ]
     },
     "metadata": {
      "needs_background": "light"
     },
     "output_type": "display_data"
    }
   ],
   "source": [
    "coef.plot(kind='barh', x='Feature', y='Coefficient', figsize=(4, 4));\n",
    "\n",
    "# Coefficients of 0 have been removed "
   ]
  },
  {
   "cell_type": "code",
   "execution_count": 355,
   "metadata": {},
   "outputs": [
    {
     "data": {
      "image/png": "[encoded data removed]",
      "text/plain": [
       "<Figure size 432x288 with 2 Axes>"
      ]
     },
     "metadata": {
      "needs_background": "light"
     },
     "output_type": "display_data"
    }
   ],
   "source": [
    "from sklearn.metrics import plot_confusion_matrix, plot_roc_curve\n",
    "import matplotlib.pyplot as plt\n",
    "\n",
    "plot_confusion_matrix(best_lr, x2_train_std, y_train, cmap=plt.cm.Blues)\n",
    "plt.grid(False)\n",
    "plt.show()"
   ]
  },
  {
   "cell_type": "markdown",
   "metadata": {},
   "source": [
    "### Model Analysis\n",
    "\n",
    "The logistic regression with the new features now gives a 77% accuracy, 27% above the baseline and several percent above the score for the single feature linear regression model. The mean CV score and training score are close, supporting the model, and the test score is now slightly higher than the other scores possibly suggesting an under-fit, however the scores are close enough for this not to be concerning. "
   ]
  },
  {
   "cell_type": "markdown",
   "metadata": {},
   "source": [
    "### Decision Tree Classifier "
   ]
  },
  {
   "cell_type": "code",
   "execution_count": 342,
   "metadata": {},
   "outputs": [
    {
     "name": "stdout",
     "output_type": "stream",
     "text": [
      "Fitting 5 folds for each of 1944 candidates, totalling 9720 fits\n"
     ]
    },
    {
     "data": {
      "text/plain": [
       "GridSearchCV(cv=5, estimator=DecisionTreeClassifier(), n_jobs=2,\n",
       "             param_grid={'criterion': ['gini', 'entropy'],\n",
       "                         'max_features': [6, 7, 8, 9, 10, 11, 12, 13, 14],\n",
       "                         'min_samples_leaf': [2, 3, 4, 5, 6, 7],\n",
       "                         'min_samples_split': [2, 3, 4, 5, 6, 7, 8, 9, 10],\n",
       "                         'splitter': ['best', 'random']},\n",
       "             verbose=1)"
      ]
     },
     "execution_count": 342,
     "metadata": {},
     "output_type": "execute_result"
    }
   ],
   "source": [
    "gs2_params = {'criterion':['gini','entropy'],\n",
    "              'splitter':[\"best\", \"random\"], \n",
    "        'max_features': [6,7,8,9,10,11,12,13,14],\n",
    "        'min_samples_leaf': [2,3,4,5,6,7],\n",
    "        'min_samples_split': [2,3,4,5,6,7,8,9,10]}\n",
    "\n",
    "\n",
    "DTC = DecisionTreeClassifier()\n",
    "\n",
    "DTC_gridsearch = GridSearchCV(DTC,\n",
    "                             gs2_params,\n",
    "                             n_jobs=2, \n",
    "                             cv=5,\n",
    "                             verbose=1)\n",
    "\n",
    "DTC_gridsearch.fit(x2_train_std, y_train)"
   ]
  },
  {
   "cell_type": "code",
   "execution_count": 343,
   "metadata": {},
   "outputs": [
    {
     "data": {
      "text/plain": [
       "0.7751654086292051"
      ]
     },
     "execution_count": 343,
     "metadata": {},
     "output_type": "execute_result"
    }
   ],
   "source": [
    "DTC_gridsearch.best_score_"
   ]
  },
  {
   "cell_type": "code",
   "execution_count": 344,
   "metadata": {},
   "outputs": [
    {
     "data": {
      "text/plain": [
       "{'criterion': 'gini',\n",
       " 'max_features': 9,\n",
       " 'min_samples_leaf': 4,\n",
       " 'min_samples_split': 10,\n",
       " 'splitter': 'random'}"
      ]
     },
     "execution_count": 344,
     "metadata": {},
     "output_type": "execute_result"
    }
   ],
   "source": [
    "DTC_gridsearch.best_params_"
   ]
  },
  {
   "cell_type": "code",
   "execution_count": 346,
   "metadata": {},
   "outputs": [],
   "source": [
    "best_DTC = DecisionTreeClassifier(criterion='gini',max_features=9,\n",
    "                                  min_samples_leaf=4, min_samples_split=10,splitter = 'random')"
   ]
  },
  {
   "cell_type": "code",
   "execution_count": 347,
   "metadata": {},
   "outputs": [
    {
     "name": "stdout",
     "output_type": "stream",
     "text": [
      "[0.76870748 0.72789116 0.81632653 0.74829932 0.7260274 ]\n"
     ]
    },
    {
     "data": {
      "text/plain": [
       "'Mean cv score = 0.7656415991053955, training score = 0.771117166212534, test score = 0.7663043478260869.'"
      ]
     },
     "execution_count": 347,
     "metadata": {},
     "output_type": "execute_result"
    }
   ],
   "source": [
    "model_fitter(best_DTC, x2_train_std, y_train, x2_test_std, y_test)"
   ]
  },
  {
   "cell_type": "markdown",
   "metadata": {},
   "source": [
    "## Decision Tree Classifier analysis\n",
    "\n",
    "This model has a mean CV score of 77% the model appears to be the most appropriate for the data given that the mean CV and training scores are very close and the test scores is also very close. This is reliable model. "
   ]
  },
  {
   "cell_type": "markdown",
   "metadata": {},
   "source": [
    "### Overall\n",
    "\n",
    "Both the classification models which included the extra features had higher CV, training and test scores than the models based on a single feature, hence these are preferable. \n",
    "\n",
    "Looking at the second set of models which included extra features the linear regression model is preferable. Although the mean CV scores for this model and the decision tree classifier model are significantly similar, the test score for the linear regerssion model is higher meaning this model generalises better. "
   ]
  },
  {
   "cell_type": "markdown",
   "metadata": {
    "focus": false,
    "id": "4fb29de2-5b98-474c-a4ad-5170b72b9aea"
   },
   "source": [
    "### Model evaluation:\n",
    "\n",
    "Your boss would rather tell a client incorrectly that they would get a lower salary job than tell a client incorrectly that they would get a high salary job. Adjust one of your models to ease his mind, and explain what it is doing and any tradeoffs.\n",
    "\n",
    "\n",
    "- Use cross-validation to evaluate your models.\n",
    "- Evaluate the accuracy, AUC, precision and recall of the models.\n",
    "- Plot the ROC and precision-recall curves for at least one of your models."
   ]
  },
  {
   "cell_type": "markdown",
   "metadata": {},
   "source": [
    "### Notes\n",
    "\n",
    "As high salary is the positive outcomes for this model and the boss would rather incorrectly tell a client they would get a lower salary job he wants to decrease the false positives. In order to do this we will increase the threshold for the positive classification of high salary. This means that we want a high precision score for the models, which means we will be getting a trade-off with a lower accuracy score. \n",
    "\n",
    "We will look at this situation in the two best models above, that is the linear regression with many features and the decision trees classifier with many features. "
   ]
  },
  {
   "cell_type": "markdown",
   "metadata": {},
   "source": [
    "## Linear Regression many features model "
   ]
  },
  {
   "cell_type": "code",
   "execution_count": 364,
   "metadata": {},
   "outputs": [
    {
     "data": {
      "image/png": "[encoded data removed]",
      "text/plain": [
       "<Figure size 432x288 with 2 Axes>"
      ]
     },
     "metadata": {
      "needs_background": "light"
     },
     "output_type": "display_data"
    }
   ],
   "source": [
    "plot_confusion_matrix(best_lr, x2_train_std, y_train, cmap=plt.cm.Blues)\n",
    "plt.grid(False)\n",
    "plt.show()"
   ]
  },
  {
   "cell_type": "code",
   "execution_count": 400,
   "metadata": {},
   "outputs": [
    {
     "data": {
      "text/html": [
       "<div>\n",
       "<style scoped>\n",
       "    .dataframe tbody tr th:only-of-type {\n",
       "        vertical-align: middle;\n",
       "    }\n",
       "\n",
       "    .dataframe tbody tr th {\n",
       "        vertical-align: top;\n",
       "    }\n",
       "\n",
       "    .dataframe thead th {\n",
       "        text-align: right;\n",
       "    }\n",
       "</style>\n",
       "<table border=\"1\" class=\"dataframe\">\n",
       "  <thead>\n",
       "    <tr style=\"text-align: right;\">\n",
       "      <th></th>\n",
       "      <th>class_0_pp</th>\n",
       "      <th>class_1_pp</th>\n",
       "    </tr>\n",
       "  </thead>\n",
       "  <tbody>\n",
       "    <tr>\n",
       "      <th>0</th>\n",
       "      <td>0.171654</td>\n",
       "      <td>0.828346</td>\n",
       "    </tr>\n",
       "    <tr>\n",
       "      <th>1</th>\n",
       "      <td>0.681299</td>\n",
       "      <td>0.318701</td>\n",
       "    </tr>\n",
       "    <tr>\n",
       "      <th>2</th>\n",
       "      <td>0.179693</td>\n",
       "      <td>0.820307</td>\n",
       "    </tr>\n",
       "    <tr>\n",
       "      <th>3</th>\n",
       "      <td>0.669125</td>\n",
       "      <td>0.330875</td>\n",
       "    </tr>\n",
       "    <tr>\n",
       "      <th>4</th>\n",
       "      <td>0.669125</td>\n",
       "      <td>0.330875</td>\n",
       "    </tr>\n",
       "    <tr>\n",
       "      <th>...</th>\n",
       "      <td>...</td>\n",
       "      <td>...</td>\n",
       "    </tr>\n",
       "    <tr>\n",
       "      <th>729</th>\n",
       "      <td>0.141691</td>\n",
       "      <td>0.858309</td>\n",
       "    </tr>\n",
       "    <tr>\n",
       "      <th>730</th>\n",
       "      <td>0.068389</td>\n",
       "      <td>0.931611</td>\n",
       "    </tr>\n",
       "    <tr>\n",
       "      <th>731</th>\n",
       "      <td>0.669125</td>\n",
       "      <td>0.330875</td>\n",
       "    </tr>\n",
       "    <tr>\n",
       "      <th>732</th>\n",
       "      <td>0.191217</td>\n",
       "      <td>0.808783</td>\n",
       "    </tr>\n",
       "    <tr>\n",
       "      <th>733</th>\n",
       "      <td>0.171654</td>\n",
       "      <td>0.828346</td>\n",
       "    </tr>\n",
       "  </tbody>\n",
       "</table>\n",
       "<p>734 rows × 2 columns</p>\n",
       "</div>"
      ],
      "text/plain": [
       "     class_0_pp  class_1_pp\n",
       "0      0.171654    0.828346\n",
       "1      0.681299    0.318701\n",
       "2      0.179693    0.820307\n",
       "3      0.669125    0.330875\n",
       "4      0.669125    0.330875\n",
       "..          ...         ...\n",
       "729    0.141691    0.858309\n",
       "730    0.068389    0.931611\n",
       "731    0.669125    0.330875\n",
       "732    0.191217    0.808783\n",
       "733    0.171654    0.828346\n",
       "\n",
       "[734 rows x 2 columns]"
      ]
     },
     "execution_count": 400,
     "metadata": {},
     "output_type": "execute_result"
    }
   ],
   "source": [
    "y_pp = pd.DataFrame(best_lr.predict_proba(x2_train_std), \n",
    "             columns=['class_0_pp', 'class_1_pp'])\n",
    "y_pp"
   ]
  },
  {
   "cell_type": "code",
   "execution_count": 401,
   "metadata": {},
   "outputs": [],
   "source": [
    "def predict_at_threshold(x, threshold=0.7):\n",
    "    if x >= threshold:\n",
    "        return 1\n",
    "    else:\n",
    "        return 0"
   ]
  },
  {
   "cell_type": "code",
   "execution_count": 402,
   "metadata": {},
   "outputs": [
    {
     "data": {
      "text/plain": [
       "0    516\n",
       "1    218\n",
       "Name: Predicted labels, dtype: int64"
      ]
     },
     "execution_count": 402,
     "metadata": {},
     "output_type": "execute_result"
    }
   ],
   "source": [
    "y_pp['Predicted labels'] = y_pp.class_1_pp.map(predict_at_threshold)\n",
    "predictions = y_pp['Predicted labels']\n",
    "predictions.value_counts()"
   ]
  },
  {
   "cell_type": "code",
   "execution_count": 403,
   "metadata": {},
   "outputs": [],
   "source": [
    "from sklearn.metrics import plot_confusion_matrix, plot_roc_curve\n",
    "from sklearn.metrics import confusion_matrix\n",
    "from sklearn.metrics import classification_report\n",
    "from sklearn.metrics import roc_auc_score, average_precision_score, plot_roc_curve, plot_precision_recall_curve"
   ]
  },
  {
   "cell_type": "code",
   "execution_count": 404,
   "metadata": {},
   "outputs": [
    {
     "name": "stdout",
     "output_type": "stream",
     "text": [
      "[[334  33]\n",
      " [182 185]]\n"
     ]
    }
   ],
   "source": [
    "print(confusion_matrix(y_train, predictions))"
   ]
  },
  {
   "cell_type": "markdown",
   "metadata": {},
   "source": [
    "## Analysis \n",
    "\n",
    "We can see from the confusion matrix that this has decreased the number of false positives from 71 to 33, which is what the boss was hoping for. However the trade off for this is the following:\n",
    "\n",
    "1. The overall number of correctly classified points has decreased from 565 to 519. The number of true positives has decreased from 269 to 185 but the number of true negatives has increased from 296 to 334. This means the overall accuracy of our model has decrased as in total we have correctly classified less data points. \n",
    "\n",
    "\n",
    "2. In order to decrease the false positives from 71 to 33 we have have also inadvertantly inceased the number of false negatives from 98 to 182, meaning we are telling people they will recieve a low salary when it is actually high. It does not seem the boss is concerned with this however. \n"
   ]
  },
  {
   "cell_type": "code",
   "execution_count": 405,
   "metadata": {},
   "outputs": [
    {
     "name": "stdout",
     "output_type": "stream",
     "text": [
      "              precision    recall  f1-score   support\n",
      "\n",
      "           0     0.6473    0.9101    0.7565       367\n",
      "           1     0.8486    0.5041    0.6325       367\n",
      "\n",
      "    accuracy                         0.7071       734\n",
      "   macro avg     0.7480    0.7071    0.6945       734\n",
      "weighted avg     0.7480    0.7071    0.6945       734\n",
      "\n"
     ]
    }
   ],
   "source": [
    "print(classification_report(y_train, predictions, digits=4))"
   ]
  },
  {
   "cell_type": "code",
   "execution_count": 406,
   "metadata": {},
   "outputs": [
    {
     "data": {
      "image/png": "[encoded data removed]",
      "text/plain": [
       "<Figure size 432x432 with 1 Axes>"
      ]
     },
     "metadata": {
      "needs_background": "light"
     },
     "output_type": "display_data"
    }
   ],
   "source": [
    "fig, ax = plt.subplots(figsize=(6, 6))\n",
    "plot_roc_curve(best_lr, x2_train_std, y_train, ax=ax)\n",
    "ax.plot([0, 1], [0, 1], 'k--', linewidth=4)\n",
    "plt.show()"
   ]
  },
  {
   "cell_type": "code",
   "execution_count": 407,
   "metadata": {},
   "outputs": [
    {
     "data": {
      "image/png": "[encoded data removed]",
      "text/plain": [
       "<Figure size 432x432 with 1 Axes>"
      ]
     },
     "metadata": {
      "needs_background": "light"
     },
     "output_type": "display_data"
    }
   ],
   "source": [
    "fig, ax = plt.subplots(figsize=(6, 6))\n",
    "plot_precision_recall_curve(best_lr, x2_train_std, y_train, ax=ax)\n",
    "plt.show()"
   ]
  },
  {
   "cell_type": "markdown",
   "metadata": {},
   "source": [
    "## Decision Trees Classifier many features model "
   ]
  },
  {
   "cell_type": "code",
   "execution_count": 408,
   "metadata": {},
   "outputs": [
    {
     "data": {
      "image/png": "[encoded data removed]",
      "text/plain": [
       "<Figure size 432x288 with 2 Axes>"
      ]
     },
     "metadata": {
      "needs_background": "light"
     },
     "output_type": "display_data"
    }
   ],
   "source": [
    "plot_confusion_matrix(best_DTC, x2_train_std, y_train, cmap=plt.cm.Blues)\n",
    "plt.grid(False)\n",
    "plt.show()"
   ]
  },
  {
   "cell_type": "code",
   "execution_count": 409,
   "metadata": {},
   "outputs": [
    {
     "data": {
      "text/html": [
       "<div>\n",
       "<style scoped>\n",
       "    .dataframe tbody tr th:only-of-type {\n",
       "        vertical-align: middle;\n",
       "    }\n",
       "\n",
       "    .dataframe tbody tr th {\n",
       "        vertical-align: top;\n",
       "    }\n",
       "\n",
       "    .dataframe thead th {\n",
       "        text-align: right;\n",
       "    }\n",
       "</style>\n",
       "<table border=\"1\" class=\"dataframe\">\n",
       "  <thead>\n",
       "    <tr style=\"text-align: right;\">\n",
       "      <th></th>\n",
       "      <th>class_0_pp</th>\n",
       "      <th>class_1_pp</th>\n",
       "    </tr>\n",
       "  </thead>\n",
       "  <tbody>\n",
       "    <tr>\n",
       "      <th>0</th>\n",
       "      <td>0.151515</td>\n",
       "      <td>0.848485</td>\n",
       "    </tr>\n",
       "    <tr>\n",
       "      <th>1</th>\n",
       "      <td>0.863636</td>\n",
       "      <td>0.136364</td>\n",
       "    </tr>\n",
       "    <tr>\n",
       "      <th>2</th>\n",
       "      <td>0.125000</td>\n",
       "      <td>0.875000</td>\n",
       "    </tr>\n",
       "    <tr>\n",
       "      <th>3</th>\n",
       "      <td>0.693182</td>\n",
       "      <td>0.306818</td>\n",
       "    </tr>\n",
       "    <tr>\n",
       "      <th>4</th>\n",
       "      <td>0.693182</td>\n",
       "      <td>0.306818</td>\n",
       "    </tr>\n",
       "    <tr>\n",
       "      <th>...</th>\n",
       "      <td>...</td>\n",
       "      <td>...</td>\n",
       "    </tr>\n",
       "    <tr>\n",
       "      <th>729</th>\n",
       "      <td>0.033333</td>\n",
       "      <td>0.966667</td>\n",
       "    </tr>\n",
       "    <tr>\n",
       "      <th>730</th>\n",
       "      <td>0.062500</td>\n",
       "      <td>0.937500</td>\n",
       "    </tr>\n",
       "    <tr>\n",
       "      <th>731</th>\n",
       "      <td>0.693182</td>\n",
       "      <td>0.306818</td>\n",
       "    </tr>\n",
       "    <tr>\n",
       "      <th>732</th>\n",
       "      <td>0.347826</td>\n",
       "      <td>0.652174</td>\n",
       "    </tr>\n",
       "    <tr>\n",
       "      <th>733</th>\n",
       "      <td>0.151515</td>\n",
       "      <td>0.848485</td>\n",
       "    </tr>\n",
       "  </tbody>\n",
       "</table>\n",
       "<p>734 rows × 2 columns</p>\n",
       "</div>"
      ],
      "text/plain": [
       "     class_0_pp  class_1_pp\n",
       "0      0.151515    0.848485\n",
       "1      0.863636    0.136364\n",
       "2      0.125000    0.875000\n",
       "3      0.693182    0.306818\n",
       "4      0.693182    0.306818\n",
       "..          ...         ...\n",
       "729    0.033333    0.966667\n",
       "730    0.062500    0.937500\n",
       "731    0.693182    0.306818\n",
       "732    0.347826    0.652174\n",
       "733    0.151515    0.848485\n",
       "\n",
       "[734 rows x 2 columns]"
      ]
     },
     "execution_count": 409,
     "metadata": {},
     "output_type": "execute_result"
    }
   ],
   "source": [
    "y_pp = pd.DataFrame(best_DTC.predict_proba(x2_train_std), \n",
    "             columns=['class_0_pp', 'class_1_pp'])\n",
    "y_pp"
   ]
  },
  {
   "cell_type": "code",
   "execution_count": 410,
   "metadata": {},
   "outputs": [
    {
     "data": {
      "text/plain": [
       "0    534\n",
       "1    200\n",
       "Name: Predicted labels, dtype: int64"
      ]
     },
     "execution_count": 410,
     "metadata": {},
     "output_type": "execute_result"
    }
   ],
   "source": [
    "y_pp['Predicted labels'] = y_pp.class_1_pp.map(predict_at_threshold)\n",
    "predictions = y_pp['Predicted labels']\n",
    "predictions.value_counts()"
   ]
  },
  {
   "cell_type": "code",
   "execution_count": 411,
   "metadata": {},
   "outputs": [
    {
     "name": "stdout",
     "output_type": "stream",
     "text": [
      "[[348  19]\n",
      " [186 181]]\n"
     ]
    }
   ],
   "source": [
    "print(confusion_matrix(y_train, predictions))"
   ]
  },
  {
   "cell_type": "code",
   "execution_count": 412,
   "metadata": {},
   "outputs": [
    {
     "name": "stdout",
     "output_type": "stream",
     "text": [
      "              precision    recall  f1-score   support\n",
      "\n",
      "           0     0.6517    0.9482    0.7725       367\n",
      "           1     0.9050    0.4932    0.6384       367\n",
      "\n",
      "    accuracy                         0.7207       734\n",
      "   macro avg     0.7783    0.7207    0.7055       734\n",
      "weighted avg     0.7783    0.7207    0.7055       734\n",
      "\n"
     ]
    }
   ],
   "source": [
    "print(classification_report(y_train, predictions, digits=4))"
   ]
  },
  {
   "cell_type": "code",
   "execution_count": 413,
   "metadata": {},
   "outputs": [
    {
     "data": {
      "image/png": "[encoded data removed]",
      "text/plain": [
       "<Figure size 432x432 with 1 Axes>"
      ]
     },
     "metadata": {
      "needs_background": "light"
     },
     "output_type": "display_data"
    }
   ],
   "source": [
    "fig, ax = plt.subplots(figsize=(6, 6))\n",
    "plot_roc_curve(best_DTC, x2_train_std, y_train, ax=ax)\n",
    "ax.plot([0, 1], [0, 1], 'k--', linewidth=4)\n",
    "plt.show()"
   ]
  },
  {
   "cell_type": "code",
   "execution_count": 414,
   "metadata": {},
   "outputs": [
    {
     "data": {
      "image/png": "[encoded data removed]",
      "text/plain": [
       "<Figure size 432x432 with 1 Axes>"
      ]
     },
     "metadata": {
      "needs_background": "light"
     },
     "output_type": "display_data"
    }
   ],
   "source": [
    "fig, ax = plt.subplots(figsize=(6, 6))\n",
    "plot_precision_recall_curve(best_DTC, x2_train_std, y_train, ax=ax)\n",
    "plt.show()"
   ]
  },
  {
   "cell_type": "markdown",
   "metadata": {},
   "source": [
    "## Final Analysis\n",
    "\n",
    "Overall the final model I would show to the boss would be the many features decision tree classifier with the threshold ammended to 0.7. This model had good mean CV, training and test scores. When the threshold was ammended for both the many features models the decision trees model had a larger precision score, as well as a larger AUC score and AP score on the ROC curve, making it the most desirable model in this particular scenario. "
   ]
  },
  {
   "cell_type": "markdown",
   "metadata": {
    "focus": false,
    "id": "4fb29de2-5b98-474c-a4ad-5170b72b9aea"
   },
   "source": [
    "<img src=\"http://imgur.com/xDpSobf.png\" style=\"float: left; margin: 25px 15px 0px 0px; height: 25px\">\n",
    "\n",
    "### Bonus:\n",
    "\n",
    "- Answer the salary discussion by using your model to explain the tradeoffs between detecting high vs low salary positions. \n",
    "- Discuss the differences and explain when you want a high-recall or a high-precision model in this scenario.\n",
    "- Obtain the ROC/precision-recall curves for the different models you studied (at least the tuned model of each category) and compare."
   ]
  },
  {
   "cell_type": "code",
   "execution_count": 232,
   "metadata": {
    "focus": false,
    "id": "068dc1cf-7fd7-4f27-a1f1-7f0a5a221d29"
   },
   "outputs": [],
   "source": [
    "## I think I've done some of this above?"
   ]
  },
  {
   "cell_type": "markdown",
   "metadata": {},
   "source": [
    "### Summarize your results in an executive summary written for a non-technical audience.\n",
    "   \n",
    "- Writeups should be at least 500-1000 words, defining any technical terms, explaining your approach, as well as any risks and limitations."
   ]
  },
  {
   "cell_type": "code",
   "execution_count": 233,
   "metadata": {},
   "outputs": [],
   "source": [
    "## YOUR TEXT HERE IN MARKDOWN FORMAT "
   ]
  },
  {
   "cell_type": "markdown",
   "metadata": {},
   "source": [
    "<img src=\"http://imgur.com/xDpSobf.png\" style=\"float: left; margin: 25px 15px 0px 0px; height: 25px\">\n",
    "\n",
    "### BONUS\n",
    "\n",
    "Convert your executive summary into a public blog post of at least 500 words, in which you document your approach in a tutorial for other aspiring data scientists. Link to this in your notebook."
   ]
  },
  {
   "cell_type": "code",
   "execution_count": 234,
   "metadata": {},
   "outputs": [],
   "source": [
    "## YOUR LINK HERE IN MARKDOWN FORMAT "
   ]
  }
 ],
 "metadata": {
  "kernelspec": {
   "display_name": "Python 3",
   "language": "python",
   "name": "python3"
  },
  "language_info": {
   "codemirror_mode": {
    "name": "ipython",
    "version": 3
   },
   "file_extension": ".py",
   "mimetype": "text/x-python",
   "name": "python",
   "nbconvert_exporter": "python",
   "pygments_lexer": "ipython3",
   "version": "3.8.8"
  },
  "toc": {
   "base_numbering": 1,
   "nav_menu": {},
   "number_sections": false,
   "sideBar": true,
   "skip_h1_title": true,
   "title_cell": "Table of Contents",
   "title_sidebar": "Contents",
   "toc_cell": false,
   "toc_position": {},
   "toc_section_display": "block",
   "toc_window_display": false
  }
 },
 "nbformat": 4,
 "nbformat_minor": 1
}
